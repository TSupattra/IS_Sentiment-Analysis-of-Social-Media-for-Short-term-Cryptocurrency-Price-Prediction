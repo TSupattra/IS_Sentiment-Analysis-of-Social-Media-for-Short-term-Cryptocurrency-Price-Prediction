{
 "cells": [
  {
   "cell_type": "code",
   "execution_count": 1,
   "metadata": {
    "scrolled": false
   },
   "outputs": [
    {
     "data": {
      "text/html": [
       "<div>\n",
       "<style scoped>\n",
       "    .dataframe tbody tr th:only-of-type {\n",
       "        vertical-align: middle;\n",
       "    }\n",
       "\n",
       "    .dataframe tbody tr th {\n",
       "        vertical-align: top;\n",
       "    }\n",
       "\n",
       "    .dataframe thead th {\n",
       "        text-align: right;\n",
       "    }\n",
       "</style>\n",
       "<table border=\"1\" class=\"dataframe\">\n",
       "  <thead>\n",
       "    <tr style=\"text-align: right;\">\n",
       "      <th></th>\n",
       "      <th>Open_time</th>\n",
       "      <th>Close_original</th>\n",
       "      <th>High_x</th>\n",
       "      <th>Low_x</th>\n",
       "      <th>Open_x</th>\n",
       "      <th>Close</th>\n",
       "      <th>Target</th>\n",
       "      <th>dates</th>\n",
       "      <th>hour</th>\n",
       "      <th>('minute', 'mean')</th>\n",
       "      <th>('neg', 'mean')</th>\n",
       "      <th>('neu', 'mean')</th>\n",
       "      <th>('pos', 'mean')</th>\n",
       "      <th>('compound', 'mean')</th>\n",
       "      <th>Volumn_Twitter</th>\n",
       "      <th>Geometric_mean_Vpos_Vneg</th>\n",
       "    </tr>\n",
       "  </thead>\n",
       "  <tbody>\n",
       "    <tr>\n",
       "      <th>0</th>\n",
       "      <td>2021-01-01 07:00:00</td>\n",
       "      <td>28995.13</td>\n",
       "      <td>29031.34</td>\n",
       "      <td>28690.17</td>\n",
       "      <td>28923.63</td>\n",
       "      <td>29197.48</td>\n",
       "      <td>1.0</td>\n",
       "      <td>2021-01-01</td>\n",
       "      <td>7</td>\n",
       "      <td>27.694006</td>\n",
       "      <td>0.034849</td>\n",
       "      <td>0.777148</td>\n",
       "      <td>0.188000</td>\n",
       "      <td>0.281279</td>\n",
       "      <td>317.0</td>\n",
       "      <td>0.080942</td>\n",
       "    </tr>\n",
       "    <tr>\n",
       "      <th>1</th>\n",
       "      <td>2021-01-01 08:00:00</td>\n",
       "      <td>29409.99</td>\n",
       "      <td>29470.00</td>\n",
       "      <td>28960.35</td>\n",
       "      <td>28995.13</td>\n",
       "      <td>29359.47</td>\n",
       "      <td>-1.0</td>\n",
       "      <td>2021-01-01</td>\n",
       "      <td>8</td>\n",
       "      <td>26.449383</td>\n",
       "      <td>0.040452</td>\n",
       "      <td>0.787822</td>\n",
       "      <td>0.171728</td>\n",
       "      <td>0.253514</td>\n",
       "      <td>405.0</td>\n",
       "      <td>0.083347</td>\n",
       "    </tr>\n",
       "    <tr>\n",
       "      <th>2</th>\n",
       "      <td>2021-01-01 09:00:00</td>\n",
       "      <td>29194.65</td>\n",
       "      <td>29465.26</td>\n",
       "      <td>29120.03</td>\n",
       "      <td>29410.00</td>\n",
       "      <td>29323.82</td>\n",
       "      <td>1.0</td>\n",
       "      <td>2021-01-01</td>\n",
       "      <td>9</td>\n",
       "      <td>22.287091</td>\n",
       "      <td>0.026942</td>\n",
       "      <td>0.822231</td>\n",
       "      <td>0.150834</td>\n",
       "      <td>0.240986</td>\n",
       "      <td>519.0</td>\n",
       "      <td>0.063748</td>\n",
       "    </tr>\n",
       "    <tr>\n",
       "      <th>3</th>\n",
       "      <td>2021-01-01 10:00:00</td>\n",
       "      <td>29278.40</td>\n",
       "      <td>29367.00</td>\n",
       "      <td>29150.02</td>\n",
       "      <td>29195.25</td>\n",
       "      <td>29351.95</td>\n",
       "      <td>1.0</td>\n",
       "      <td>2021-01-01</td>\n",
       "      <td>10</td>\n",
       "      <td>27.866834</td>\n",
       "      <td>0.036226</td>\n",
       "      <td>0.786420</td>\n",
       "      <td>0.177354</td>\n",
       "      <td>0.268444</td>\n",
       "      <td>398.0</td>\n",
       "      <td>0.080155</td>\n",
       "    </tr>\n",
       "    <tr>\n",
       "      <th>4</th>\n",
       "      <td>2021-01-01 11:00:00</td>\n",
       "      <td>29220.31</td>\n",
       "      <td>29395.00</td>\n",
       "      <td>29029.40</td>\n",
       "      <td>29278.41</td>\n",
       "      <td>29349.63</td>\n",
       "      <td>1.0</td>\n",
       "      <td>2021-01-01</td>\n",
       "      <td>11</td>\n",
       "      <td>30.370647</td>\n",
       "      <td>0.040289</td>\n",
       "      <td>0.789821</td>\n",
       "      <td>0.169898</td>\n",
       "      <td>0.256361</td>\n",
       "      <td>402.0</td>\n",
       "      <td>0.082734</td>\n",
       "    </tr>\n",
       "    <tr>\n",
       "      <th>...</th>\n",
       "      <td>...</td>\n",
       "      <td>...</td>\n",
       "      <td>...</td>\n",
       "      <td>...</td>\n",
       "      <td>...</td>\n",
       "      <td>...</td>\n",
       "      <td>...</td>\n",
       "      <td>...</td>\n",
       "      <td>...</td>\n",
       "      <td>...</td>\n",
       "      <td>...</td>\n",
       "      <td>...</td>\n",
       "      <td>...</td>\n",
       "      <td>...</td>\n",
       "      <td>...</td>\n",
       "      <td>...</td>\n",
       "    </tr>\n",
       "    <tr>\n",
       "      <th>9276</th>\n",
       "      <td>2022-02-04 19:00:00</td>\n",
       "      <td>37956.67</td>\n",
       "      <td>38060.55</td>\n",
       "      <td>37810.00</td>\n",
       "      <td>37810.00</td>\n",
       "      <td>41379.13</td>\n",
       "      <td>1.0</td>\n",
       "      <td>2022-02-04</td>\n",
       "      <td>19</td>\n",
       "      <td>28.566770</td>\n",
       "      <td>0.058018</td>\n",
       "      <td>0.817276</td>\n",
       "      <td>0.124707</td>\n",
       "      <td>0.129657</td>\n",
       "      <td>1288.0</td>\n",
       "      <td>0.085060</td>\n",
       "    </tr>\n",
       "    <tr>\n",
       "      <th>9277</th>\n",
       "      <td>2022-02-04 20:00:00</td>\n",
       "      <td>37421.40</td>\n",
       "      <td>38200.00</td>\n",
       "      <td>37362.72</td>\n",
       "      <td>37956.67</td>\n",
       "      <td>41510.69</td>\n",
       "      <td>1.0</td>\n",
       "      <td>2022-02-04</td>\n",
       "      <td>20</td>\n",
       "      <td>28.391404</td>\n",
       "      <td>0.065361</td>\n",
       "      <td>0.793527</td>\n",
       "      <td>0.141118</td>\n",
       "      <td>0.138752</td>\n",
       "      <td>1303.0</td>\n",
       "      <td>0.096039</td>\n",
       "    </tr>\n",
       "    <tr>\n",
       "      <th>9278</th>\n",
       "      <td>2022-02-04 21:00:00</td>\n",
       "      <td>37953.20</td>\n",
       "      <td>38070.65</td>\n",
       "      <td>37290.20</td>\n",
       "      <td>37421.41</td>\n",
       "      <td>41458.73</td>\n",
       "      <td>1.0</td>\n",
       "      <td>2022-02-04</td>\n",
       "      <td>21</td>\n",
       "      <td>27.343781</td>\n",
       "      <td>0.060723</td>\n",
       "      <td>0.798656</td>\n",
       "      <td>0.140620</td>\n",
       "      <td>0.161585</td>\n",
       "      <td>1021.0</td>\n",
       "      <td>0.092406</td>\n",
       "    </tr>\n",
       "    <tr>\n",
       "      <th>9279</th>\n",
       "      <td>2022-02-04 22:00:00</td>\n",
       "      <td>39490.87</td>\n",
       "      <td>39819.91</td>\n",
       "      <td>37886.90</td>\n",
       "      <td>37953.20</td>\n",
       "      <td>41761.85</td>\n",
       "      <td>1.0</td>\n",
       "      <td>2022-02-04</td>\n",
       "      <td>22</td>\n",
       "      <td>27.659443</td>\n",
       "      <td>0.055639</td>\n",
       "      <td>0.804409</td>\n",
       "      <td>0.139953</td>\n",
       "      <td>0.165811</td>\n",
       "      <td>969.0</td>\n",
       "      <td>0.088243</td>\n",
       "    </tr>\n",
       "    <tr>\n",
       "      <th>9280</th>\n",
       "      <td>2022-02-04 23:00:00</td>\n",
       "      <td>40268.51</td>\n",
       "      <td>40600.00</td>\n",
       "      <td>39442.89</td>\n",
       "      <td>39490.88</td>\n",
       "      <td>41283.81</td>\n",
       "      <td>1.0</td>\n",
       "      <td>2022-02-04</td>\n",
       "      <td>23</td>\n",
       "      <td>35.168248</td>\n",
       "      <td>0.053988</td>\n",
       "      <td>0.818990</td>\n",
       "      <td>0.127020</td>\n",
       "      <td>0.121241</td>\n",
       "      <td>1159.0</td>\n",
       "      <td>0.082810</td>\n",
       "    </tr>\n",
       "  </tbody>\n",
       "</table>\n",
       "<p>9281 rows × 16 columns</p>\n",
       "</div>"
      ],
      "text/plain": [
       "                Open_time  Close_original    High_x     Low_x    Open_x  \\\n",
       "0     2021-01-01 07:00:00        28995.13  29031.34  28690.17  28923.63   \n",
       "1     2021-01-01 08:00:00        29409.99  29470.00  28960.35  28995.13   \n",
       "2     2021-01-01 09:00:00        29194.65  29465.26  29120.03  29410.00   \n",
       "3     2021-01-01 10:00:00        29278.40  29367.00  29150.02  29195.25   \n",
       "4     2021-01-01 11:00:00        29220.31  29395.00  29029.40  29278.41   \n",
       "...                   ...             ...       ...       ...       ...   \n",
       "9276  2022-02-04 19:00:00        37956.67  38060.55  37810.00  37810.00   \n",
       "9277  2022-02-04 20:00:00        37421.40  38200.00  37362.72  37956.67   \n",
       "9278  2022-02-04 21:00:00        37953.20  38070.65  37290.20  37421.41   \n",
       "9279  2022-02-04 22:00:00        39490.87  39819.91  37886.90  37953.20   \n",
       "9280  2022-02-04 23:00:00        40268.51  40600.00  39442.89  39490.88   \n",
       "\n",
       "         Close  Target       dates  hour  ('minute', 'mean')  ('neg', 'mean')  \\\n",
       "0     29197.48     1.0  2021-01-01     7           27.694006         0.034849   \n",
       "1     29359.47    -1.0  2021-01-01     8           26.449383         0.040452   \n",
       "2     29323.82     1.0  2021-01-01     9           22.287091         0.026942   \n",
       "3     29351.95     1.0  2021-01-01    10           27.866834         0.036226   \n",
       "4     29349.63     1.0  2021-01-01    11           30.370647         0.040289   \n",
       "...        ...     ...         ...   ...                 ...              ...   \n",
       "9276  41379.13     1.0  2022-02-04    19           28.566770         0.058018   \n",
       "9277  41510.69     1.0  2022-02-04    20           28.391404         0.065361   \n",
       "9278  41458.73     1.0  2022-02-04    21           27.343781         0.060723   \n",
       "9279  41761.85     1.0  2022-02-04    22           27.659443         0.055639   \n",
       "9280  41283.81     1.0  2022-02-04    23           35.168248         0.053988   \n",
       "\n",
       "      ('neu', 'mean')  ('pos', 'mean')  ('compound', 'mean')  Volumn_Twitter  \\\n",
       "0            0.777148         0.188000              0.281279           317.0   \n",
       "1            0.787822         0.171728              0.253514           405.0   \n",
       "2            0.822231         0.150834              0.240986           519.0   \n",
       "3            0.786420         0.177354              0.268444           398.0   \n",
       "4            0.789821         0.169898              0.256361           402.0   \n",
       "...               ...              ...                   ...             ...   \n",
       "9276         0.817276         0.124707              0.129657          1288.0   \n",
       "9277         0.793527         0.141118              0.138752          1303.0   \n",
       "9278         0.798656         0.140620              0.161585          1021.0   \n",
       "9279         0.804409         0.139953              0.165811           969.0   \n",
       "9280         0.818990         0.127020              0.121241          1159.0   \n",
       "\n",
       "      Geometric_mean_Vpos_Vneg  \n",
       "0                     0.080942  \n",
       "1                     0.083347  \n",
       "2                     0.063748  \n",
       "3                     0.080155  \n",
       "4                     0.082734  \n",
       "...                        ...  \n",
       "9276                  0.085060  \n",
       "9277                  0.096039  \n",
       "9278                  0.092406  \n",
       "9279                  0.088243  \n",
       "9280                  0.082810  \n",
       "\n",
       "[9281 rows x 16 columns]"
      ]
     },
     "execution_count": 1,
     "metadata": {},
     "output_type": "execute_result"
    }
   ],
   "source": [
    "import pandas as pd\n",
    "import numpy as np\n",
    "\n",
    "df = pd.read_csv('Total_Feature.csv')\n",
    "df"
   ]
  },
  {
   "cell_type": "code",
   "execution_count": 2,
   "metadata": {
    "scrolled": true
   },
   "outputs": [
    {
     "name": "stdout",
     "output_type": "stream",
     "text": [
      "Index(['Open_time', 'Close_original', 'High_x', 'Low_x', 'Open_x', 'Close',\n",
      "       'Target', 'dates', 'hour', '('minute', 'mean')', '('neg', 'mean')',\n",
      "       '('neu', 'mean')', '('pos', 'mean')', '('compound', 'mean')',\n",
      "       'Volumn_Twitter', 'Geometric_mean_Vpos_Vneg'],\n",
      "      dtype='object')\n"
     ]
    }
   ],
   "source": [
    "print(df.columns)"
   ]
  },
  {
   "cell_type": "code",
   "execution_count": 3,
   "metadata": {
    "scrolled": false
   },
   "outputs": [
    {
     "data": {
      "text/html": [
       "<div>\n",
       "<style scoped>\n",
       "    .dataframe tbody tr th:only-of-type {\n",
       "        vertical-align: middle;\n",
       "    }\n",
       "\n",
       "    .dataframe tbody tr th {\n",
       "        vertical-align: top;\n",
       "    }\n",
       "\n",
       "    .dataframe thead th {\n",
       "        text-align: right;\n",
       "    }\n",
       "</style>\n",
       "<table border=\"1\" class=\"dataframe\">\n",
       "  <thead>\n",
       "    <tr style=\"text-align: right;\">\n",
       "      <th></th>\n",
       "      <th>Close_original</th>\n",
       "      <th>High_x</th>\n",
       "      <th>Low_x</th>\n",
       "      <th>Open_x</th>\n",
       "      <th>Close</th>\n",
       "      <th>('neg', 'mean')</th>\n",
       "      <th>('neu', 'mean')</th>\n",
       "      <th>('pos', 'mean')</th>\n",
       "      <th>('compound', 'mean')</th>\n",
       "      <th>Volumn_Twitter</th>\n",
       "      <th>Geometric_mean_Vpos_Vneg</th>\n",
       "    </tr>\n",
       "  </thead>\n",
       "  <tbody>\n",
       "    <tr>\n",
       "      <th>0</th>\n",
       "      <td>28995.13</td>\n",
       "      <td>29031.34</td>\n",
       "      <td>28690.17</td>\n",
       "      <td>28923.63</td>\n",
       "      <td>29197.48</td>\n",
       "      <td>0.034849</td>\n",
       "      <td>0.777148</td>\n",
       "      <td>0.188000</td>\n",
       "      <td>0.281279</td>\n",
       "      <td>317.0</td>\n",
       "      <td>0.080942</td>\n",
       "    </tr>\n",
       "    <tr>\n",
       "      <th>1</th>\n",
       "      <td>29409.99</td>\n",
       "      <td>29470.00</td>\n",
       "      <td>28960.35</td>\n",
       "      <td>28995.13</td>\n",
       "      <td>29359.47</td>\n",
       "      <td>0.040452</td>\n",
       "      <td>0.787822</td>\n",
       "      <td>0.171728</td>\n",
       "      <td>0.253514</td>\n",
       "      <td>405.0</td>\n",
       "      <td>0.083347</td>\n",
       "    </tr>\n",
       "    <tr>\n",
       "      <th>2</th>\n",
       "      <td>29194.65</td>\n",
       "      <td>29465.26</td>\n",
       "      <td>29120.03</td>\n",
       "      <td>29410.00</td>\n",
       "      <td>29323.82</td>\n",
       "      <td>0.026942</td>\n",
       "      <td>0.822231</td>\n",
       "      <td>0.150834</td>\n",
       "      <td>0.240986</td>\n",
       "      <td>519.0</td>\n",
       "      <td>0.063748</td>\n",
       "    </tr>\n",
       "    <tr>\n",
       "      <th>3</th>\n",
       "      <td>29278.40</td>\n",
       "      <td>29367.00</td>\n",
       "      <td>29150.02</td>\n",
       "      <td>29195.25</td>\n",
       "      <td>29351.95</td>\n",
       "      <td>0.036226</td>\n",
       "      <td>0.786420</td>\n",
       "      <td>0.177354</td>\n",
       "      <td>0.268444</td>\n",
       "      <td>398.0</td>\n",
       "      <td>0.080155</td>\n",
       "    </tr>\n",
       "    <tr>\n",
       "      <th>4</th>\n",
       "      <td>29220.31</td>\n",
       "      <td>29395.00</td>\n",
       "      <td>29029.40</td>\n",
       "      <td>29278.41</td>\n",
       "      <td>29349.63</td>\n",
       "      <td>0.040289</td>\n",
       "      <td>0.789821</td>\n",
       "      <td>0.169898</td>\n",
       "      <td>0.256361</td>\n",
       "      <td>402.0</td>\n",
       "      <td>0.082734</td>\n",
       "    </tr>\n",
       "    <tr>\n",
       "      <th>...</th>\n",
       "      <td>...</td>\n",
       "      <td>...</td>\n",
       "      <td>...</td>\n",
       "      <td>...</td>\n",
       "      <td>...</td>\n",
       "      <td>...</td>\n",
       "      <td>...</td>\n",
       "      <td>...</td>\n",
       "      <td>...</td>\n",
       "      <td>...</td>\n",
       "      <td>...</td>\n",
       "    </tr>\n",
       "    <tr>\n",
       "      <th>9276</th>\n",
       "      <td>37956.67</td>\n",
       "      <td>38060.55</td>\n",
       "      <td>37810.00</td>\n",
       "      <td>37810.00</td>\n",
       "      <td>41379.13</td>\n",
       "      <td>0.058018</td>\n",
       "      <td>0.817276</td>\n",
       "      <td>0.124707</td>\n",
       "      <td>0.129657</td>\n",
       "      <td>1288.0</td>\n",
       "      <td>0.085060</td>\n",
       "    </tr>\n",
       "    <tr>\n",
       "      <th>9277</th>\n",
       "      <td>37421.40</td>\n",
       "      <td>38200.00</td>\n",
       "      <td>37362.72</td>\n",
       "      <td>37956.67</td>\n",
       "      <td>41510.69</td>\n",
       "      <td>0.065361</td>\n",
       "      <td>0.793527</td>\n",
       "      <td>0.141118</td>\n",
       "      <td>0.138752</td>\n",
       "      <td>1303.0</td>\n",
       "      <td>0.096039</td>\n",
       "    </tr>\n",
       "    <tr>\n",
       "      <th>9278</th>\n",
       "      <td>37953.20</td>\n",
       "      <td>38070.65</td>\n",
       "      <td>37290.20</td>\n",
       "      <td>37421.41</td>\n",
       "      <td>41458.73</td>\n",
       "      <td>0.060723</td>\n",
       "      <td>0.798656</td>\n",
       "      <td>0.140620</td>\n",
       "      <td>0.161585</td>\n",
       "      <td>1021.0</td>\n",
       "      <td>0.092406</td>\n",
       "    </tr>\n",
       "    <tr>\n",
       "      <th>9279</th>\n",
       "      <td>39490.87</td>\n",
       "      <td>39819.91</td>\n",
       "      <td>37886.90</td>\n",
       "      <td>37953.20</td>\n",
       "      <td>41761.85</td>\n",
       "      <td>0.055639</td>\n",
       "      <td>0.804409</td>\n",
       "      <td>0.139953</td>\n",
       "      <td>0.165811</td>\n",
       "      <td>969.0</td>\n",
       "      <td>0.088243</td>\n",
       "    </tr>\n",
       "    <tr>\n",
       "      <th>9280</th>\n",
       "      <td>40268.51</td>\n",
       "      <td>40600.00</td>\n",
       "      <td>39442.89</td>\n",
       "      <td>39490.88</td>\n",
       "      <td>41283.81</td>\n",
       "      <td>0.053988</td>\n",
       "      <td>0.818990</td>\n",
       "      <td>0.127020</td>\n",
       "      <td>0.121241</td>\n",
       "      <td>1159.0</td>\n",
       "      <td>0.082810</td>\n",
       "    </tr>\n",
       "  </tbody>\n",
       "</table>\n",
       "<p>9281 rows × 11 columns</p>\n",
       "</div>"
      ],
      "text/plain": [
       "      Close_original    High_x     Low_x    Open_x     Close  ('neg', 'mean')  \\\n",
       "0           28995.13  29031.34  28690.17  28923.63  29197.48         0.034849   \n",
       "1           29409.99  29470.00  28960.35  28995.13  29359.47         0.040452   \n",
       "2           29194.65  29465.26  29120.03  29410.00  29323.82         0.026942   \n",
       "3           29278.40  29367.00  29150.02  29195.25  29351.95         0.036226   \n",
       "4           29220.31  29395.00  29029.40  29278.41  29349.63         0.040289   \n",
       "...              ...       ...       ...       ...       ...              ...   \n",
       "9276        37956.67  38060.55  37810.00  37810.00  41379.13         0.058018   \n",
       "9277        37421.40  38200.00  37362.72  37956.67  41510.69         0.065361   \n",
       "9278        37953.20  38070.65  37290.20  37421.41  41458.73         0.060723   \n",
       "9279        39490.87  39819.91  37886.90  37953.20  41761.85         0.055639   \n",
       "9280        40268.51  40600.00  39442.89  39490.88  41283.81         0.053988   \n",
       "\n",
       "      ('neu', 'mean')  ('pos', 'mean')  ('compound', 'mean')  Volumn_Twitter  \\\n",
       "0            0.777148         0.188000              0.281279           317.0   \n",
       "1            0.787822         0.171728              0.253514           405.0   \n",
       "2            0.822231         0.150834              0.240986           519.0   \n",
       "3            0.786420         0.177354              0.268444           398.0   \n",
       "4            0.789821         0.169898              0.256361           402.0   \n",
       "...               ...              ...                   ...             ...   \n",
       "9276         0.817276         0.124707              0.129657          1288.0   \n",
       "9277         0.793527         0.141118              0.138752          1303.0   \n",
       "9278         0.798656         0.140620              0.161585          1021.0   \n",
       "9279         0.804409         0.139953              0.165811           969.0   \n",
       "9280         0.818990         0.127020              0.121241          1159.0   \n",
       "\n",
       "      Geometric_mean_Vpos_Vneg  \n",
       "0                     0.080942  \n",
       "1                     0.083347  \n",
       "2                     0.063748  \n",
       "3                     0.080155  \n",
       "4                     0.082734  \n",
       "...                        ...  \n",
       "9276                  0.085060  \n",
       "9277                  0.096039  \n",
       "9278                  0.092406  \n",
       "9279                  0.088243  \n",
       "9280                  0.082810  \n",
       "\n",
       "[9281 rows x 11 columns]"
      ]
     },
     "execution_count": 3,
     "metadata": {},
     "output_type": "execute_result"
    }
   ],
   "source": [
    "new_df = df.drop(df.columns[[0, 7,8,9,6]], axis=1)\n",
    "# df.drop([\"Open_time\",\"dates\",\"hour\",\"Target\",('minute', 'mean')], axis=1)\n",
    "# df.drop(['Open_time','dates','hour','Target','('minute', 'mean')'])\n",
    "new_df"
   ]
  },
  {
   "cell_type": "code",
   "execution_count": 4,
   "metadata": {
    "scrolled": true
   },
   "outputs": [
    {
     "name": "stdout",
     "output_type": "stream",
     "text": [
      "Index(['Close_original', 'High_x', 'Low_x', 'Open_x', 'Close',\n",
      "       '('neg', 'mean')', '('neu', 'mean')', '('pos', 'mean')',\n",
      "       '('compound', 'mean')', 'Volumn_Twitter', 'Geometric_mean_Vpos_Vneg'],\n",
      "      dtype='object')\n"
     ]
    }
   ],
   "source": [
    "print(new_df.columns)"
   ]
  },
  {
   "cell_type": "code",
   "execution_count": 5,
   "metadata": {},
   "outputs": [
    {
     "data": {
      "text/html": [
       "<div>\n",
       "<style scoped>\n",
       "    .dataframe tbody tr th:only-of-type {\n",
       "        vertical-align: middle;\n",
       "    }\n",
       "\n",
       "    .dataframe tbody tr th {\n",
       "        vertical-align: top;\n",
       "    }\n",
       "\n",
       "    .dataframe thead th {\n",
       "        text-align: right;\n",
       "    }\n",
       "</style>\n",
       "<table border=\"1\" class=\"dataframe\">\n",
       "  <thead>\n",
       "    <tr style=\"text-align: right;\">\n",
       "      <th></th>\n",
       "      <th>Close_original</th>\n",
       "      <th>High_x</th>\n",
       "      <th>Low_x</th>\n",
       "      <th>Open_x</th>\n",
       "      <th>('neg', 'mean')</th>\n",
       "      <th>('neu', 'mean')</th>\n",
       "      <th>('pos', 'mean')</th>\n",
       "      <th>('compound', 'mean')</th>\n",
       "      <th>Volumn_Twitter</th>\n",
       "      <th>Geometric_mean_Vpos_Vneg</th>\n",
       "      <th>Close</th>\n",
       "    </tr>\n",
       "  </thead>\n",
       "  <tbody>\n",
       "    <tr>\n",
       "      <th>0</th>\n",
       "      <td>28995.13</td>\n",
       "      <td>29031.34</td>\n",
       "      <td>28690.17</td>\n",
       "      <td>28923.63</td>\n",
       "      <td>0.034849</td>\n",
       "      <td>0.777148</td>\n",
       "      <td>0.188000</td>\n",
       "      <td>0.281279</td>\n",
       "      <td>317.0</td>\n",
       "      <td>0.080942</td>\n",
       "      <td>29197.48</td>\n",
       "    </tr>\n",
       "    <tr>\n",
       "      <th>1</th>\n",
       "      <td>29409.99</td>\n",
       "      <td>29470.00</td>\n",
       "      <td>28960.35</td>\n",
       "      <td>28995.13</td>\n",
       "      <td>0.040452</td>\n",
       "      <td>0.787822</td>\n",
       "      <td>0.171728</td>\n",
       "      <td>0.253514</td>\n",
       "      <td>405.0</td>\n",
       "      <td>0.083347</td>\n",
       "      <td>29359.47</td>\n",
       "    </tr>\n",
       "    <tr>\n",
       "      <th>2</th>\n",
       "      <td>29194.65</td>\n",
       "      <td>29465.26</td>\n",
       "      <td>29120.03</td>\n",
       "      <td>29410.00</td>\n",
       "      <td>0.026942</td>\n",
       "      <td>0.822231</td>\n",
       "      <td>0.150834</td>\n",
       "      <td>0.240986</td>\n",
       "      <td>519.0</td>\n",
       "      <td>0.063748</td>\n",
       "      <td>29323.82</td>\n",
       "    </tr>\n",
       "    <tr>\n",
       "      <th>3</th>\n",
       "      <td>29278.40</td>\n",
       "      <td>29367.00</td>\n",
       "      <td>29150.02</td>\n",
       "      <td>29195.25</td>\n",
       "      <td>0.036226</td>\n",
       "      <td>0.786420</td>\n",
       "      <td>0.177354</td>\n",
       "      <td>0.268444</td>\n",
       "      <td>398.0</td>\n",
       "      <td>0.080155</td>\n",
       "      <td>29351.95</td>\n",
       "    </tr>\n",
       "    <tr>\n",
       "      <th>4</th>\n",
       "      <td>29220.31</td>\n",
       "      <td>29395.00</td>\n",
       "      <td>29029.40</td>\n",
       "      <td>29278.41</td>\n",
       "      <td>0.040289</td>\n",
       "      <td>0.789821</td>\n",
       "      <td>0.169898</td>\n",
       "      <td>0.256361</td>\n",
       "      <td>402.0</td>\n",
       "      <td>0.082734</td>\n",
       "      <td>29349.63</td>\n",
       "    </tr>\n",
       "    <tr>\n",
       "      <th>...</th>\n",
       "      <td>...</td>\n",
       "      <td>...</td>\n",
       "      <td>...</td>\n",
       "      <td>...</td>\n",
       "      <td>...</td>\n",
       "      <td>...</td>\n",
       "      <td>...</td>\n",
       "      <td>...</td>\n",
       "      <td>...</td>\n",
       "      <td>...</td>\n",
       "      <td>...</td>\n",
       "    </tr>\n",
       "    <tr>\n",
       "      <th>9276</th>\n",
       "      <td>37956.67</td>\n",
       "      <td>38060.55</td>\n",
       "      <td>37810.00</td>\n",
       "      <td>37810.00</td>\n",
       "      <td>0.058018</td>\n",
       "      <td>0.817276</td>\n",
       "      <td>0.124707</td>\n",
       "      <td>0.129657</td>\n",
       "      <td>1288.0</td>\n",
       "      <td>0.085060</td>\n",
       "      <td>41379.13</td>\n",
       "    </tr>\n",
       "    <tr>\n",
       "      <th>9277</th>\n",
       "      <td>37421.40</td>\n",
       "      <td>38200.00</td>\n",
       "      <td>37362.72</td>\n",
       "      <td>37956.67</td>\n",
       "      <td>0.065361</td>\n",
       "      <td>0.793527</td>\n",
       "      <td>0.141118</td>\n",
       "      <td>0.138752</td>\n",
       "      <td>1303.0</td>\n",
       "      <td>0.096039</td>\n",
       "      <td>41510.69</td>\n",
       "    </tr>\n",
       "    <tr>\n",
       "      <th>9278</th>\n",
       "      <td>37953.20</td>\n",
       "      <td>38070.65</td>\n",
       "      <td>37290.20</td>\n",
       "      <td>37421.41</td>\n",
       "      <td>0.060723</td>\n",
       "      <td>0.798656</td>\n",
       "      <td>0.140620</td>\n",
       "      <td>0.161585</td>\n",
       "      <td>1021.0</td>\n",
       "      <td>0.092406</td>\n",
       "      <td>41458.73</td>\n",
       "    </tr>\n",
       "    <tr>\n",
       "      <th>9279</th>\n",
       "      <td>39490.87</td>\n",
       "      <td>39819.91</td>\n",
       "      <td>37886.90</td>\n",
       "      <td>37953.20</td>\n",
       "      <td>0.055639</td>\n",
       "      <td>0.804409</td>\n",
       "      <td>0.139953</td>\n",
       "      <td>0.165811</td>\n",
       "      <td>969.0</td>\n",
       "      <td>0.088243</td>\n",
       "      <td>41761.85</td>\n",
       "    </tr>\n",
       "    <tr>\n",
       "      <th>9280</th>\n",
       "      <td>40268.51</td>\n",
       "      <td>40600.00</td>\n",
       "      <td>39442.89</td>\n",
       "      <td>39490.88</td>\n",
       "      <td>0.053988</td>\n",
       "      <td>0.818990</td>\n",
       "      <td>0.127020</td>\n",
       "      <td>0.121241</td>\n",
       "      <td>1159.0</td>\n",
       "      <td>0.082810</td>\n",
       "      <td>41283.81</td>\n",
       "    </tr>\n",
       "  </tbody>\n",
       "</table>\n",
       "<p>9281 rows × 11 columns</p>\n",
       "</div>"
      ],
      "text/plain": [
       "      Close_original    High_x     Low_x    Open_x  ('neg', 'mean')  \\\n",
       "0           28995.13  29031.34  28690.17  28923.63         0.034849   \n",
       "1           29409.99  29470.00  28960.35  28995.13         0.040452   \n",
       "2           29194.65  29465.26  29120.03  29410.00         0.026942   \n",
       "3           29278.40  29367.00  29150.02  29195.25         0.036226   \n",
       "4           29220.31  29395.00  29029.40  29278.41         0.040289   \n",
       "...              ...       ...       ...       ...              ...   \n",
       "9276        37956.67  38060.55  37810.00  37810.00         0.058018   \n",
       "9277        37421.40  38200.00  37362.72  37956.67         0.065361   \n",
       "9278        37953.20  38070.65  37290.20  37421.41         0.060723   \n",
       "9279        39490.87  39819.91  37886.90  37953.20         0.055639   \n",
       "9280        40268.51  40600.00  39442.89  39490.88         0.053988   \n",
       "\n",
       "      ('neu', 'mean')  ('pos', 'mean')  ('compound', 'mean')  Volumn_Twitter  \\\n",
       "0            0.777148         0.188000              0.281279           317.0   \n",
       "1            0.787822         0.171728              0.253514           405.0   \n",
       "2            0.822231         0.150834              0.240986           519.0   \n",
       "3            0.786420         0.177354              0.268444           398.0   \n",
       "4            0.789821         0.169898              0.256361           402.0   \n",
       "...               ...              ...                   ...             ...   \n",
       "9276         0.817276         0.124707              0.129657          1288.0   \n",
       "9277         0.793527         0.141118              0.138752          1303.0   \n",
       "9278         0.798656         0.140620              0.161585          1021.0   \n",
       "9279         0.804409         0.139953              0.165811           969.0   \n",
       "9280         0.818990         0.127020              0.121241          1159.0   \n",
       "\n",
       "      Geometric_mean_Vpos_Vneg     Close  \n",
       "0                     0.080942  29197.48  \n",
       "1                     0.083347  29359.47  \n",
       "2                     0.063748  29323.82  \n",
       "3                     0.080155  29351.95  \n",
       "4                     0.082734  29349.63  \n",
       "...                        ...       ...  \n",
       "9276                  0.085060  41379.13  \n",
       "9277                  0.096039  41510.69  \n",
       "9278                  0.092406  41458.73  \n",
       "9279                  0.088243  41761.85  \n",
       "9280                  0.082810  41283.81  \n",
       "\n",
       "[9281 rows x 11 columns]"
      ]
     },
     "execution_count": 5,
     "metadata": {},
     "output_type": "execute_result"
    }
   ],
   "source": [
    "new_df_0 = new_df[new_df.columns[[0, 1,2,3,5,6,7,8,9,10,4]]]\n",
    "new_df_0"
   ]
  },
  {
   "cell_type": "code",
   "execution_count": 6,
   "metadata": {},
   "outputs": [
    {
     "data": {
      "text/plain": [
       "6497"
      ]
     },
     "execution_count": 6,
     "metadata": {},
     "output_type": "execute_result"
    }
   ],
   "source": [
    "int(round(len(df.index)*0.7,0))"
   ]
  },
  {
   "cell_type": "markdown",
   "metadata": {},
   "source": [
    "### Check the correlation"
   ]
  },
  {
   "cell_type": "code",
   "execution_count": 7,
   "metadata": {
    "scrolled": false
   },
   "outputs": [
    {
     "data": {
      "text/plain": [
       "<AxesSubplot:>"
      ]
     },
     "execution_count": 7,
     "metadata": {},
     "output_type": "execute_result"
    },
    {
     "data": {
      "image/png": "[encoded data removed]",
      "text/plain": [
       "<Figure size 1440x720 with 2 Axes>"
      ]
     },
     "metadata": {
      "needs_background": "light"
     },
     "output_type": "display_data"
    }
   ],
   "source": [
    "import seaborn as sns\n",
    "import matplotlib.pyplot as plt\n",
    "\n",
    "plt.figure(figsize = (20,10))\n",
    "cmap = sns.diverging_palette(500,10, as_cmap = True)\n",
    "sns.heatmap(df.corr().abs(),cmap=cmap ,center = 0, square = True , annot =True)"
   ]
  },
  {
   "cell_type": "markdown",
   "metadata": {},
   "source": [
    "### Select X and y\n"
   ]
  },
  {
   "cell_type": "code",
   "execution_count": 8,
   "metadata": {},
   "outputs": [],
   "source": [
    "from sklearn.model_selection import train_test_split\n",
    "\n",
    "X = new_df_0.drop(['Close'],axis=1).values   # independant features\n",
    "y = new_df_0['Close'].values # dependant variable\n",
    "\n"
   ]
  },
  {
   "cell_type": "markdown",
   "metadata": {},
   "source": [
    "### Standardizing data with StandardScaler() function"
   ]
  },
  {
   "cell_type": "code",
   "execution_count": 9,
   "metadata": {},
   "outputs": [],
   "source": [
    "# Feature Scaling \n",
    "from sklearn.preprocessing import StandardScaler \n",
    "sc_X = StandardScaler() \n",
    "sc_y = StandardScaler() \n",
    "X = sc_X.fit_transform(X) \n",
    "y = sc_y.fit_transform(y.reshape(-1, 1))"
   ]
  },
  {
   "cell_type": "markdown",
   "metadata": {},
   "source": [
    "### Split the data into 70% training and 30% testing"
   ]
  },
  {
   "cell_type": "code",
   "execution_count": 10,
   "metadata": {},
   "outputs": [],
   "source": [
    "# Choose your test size to split between training and testing sets:\n",
    "X_train, X_test, y_train, y_test = train_test_split(X, y, test_size=0.3, random_state=42)"
   ]
  },
  {
   "cell_type": "code",
   "execution_count": null,
   "metadata": {},
   "outputs": [],
   "source": []
  },
  {
   "cell_type": "markdown",
   "metadata": {},
   "source": [
    "# 1.  GridSearchCV for SVR"
   ]
  },
  {
   "cell_type": "code",
   "execution_count": 41,
   "metadata": {
    "scrolled": true
   },
   "outputs": [
    {
     "name": "stderr",
     "output_type": "stream",
     "text": [
      "C:\\Users\\Gunn\\anaconda3\\lib\\site-packages\\sklearn\\utils\\validation.py:993: DataConversionWarning: A column-vector y was passed when a 1d array was expected. Please change the shape of y to (n_samples, ), for example using ravel().\n",
      "  y = column_or_1d(y, warn=True)\n"
     ]
    },
    {
     "name": "stdout",
     "output_type": "stream",
     "text": [
      "R_Square: 0.9653956596894532\n",
      "Best parameters: {'C': 100.0, 'epsilon': 0.01, 'gamma': 0.01, 'kernel': 'rbf'}\n"
     ]
    }
   ],
   "source": [
    "#GridSearchCV for SVR\n",
    "from sklearn.svm import SVR\n",
    "from sklearn.model_selection import GridSearchCV\n",
    "\n",
    "C = np.array([0.001, 0.01, 0.1, 1, 10, 100, 1000])\n",
    "epsilon = [0, 0.01, 0.1, 0.5, 1, 2, 4, 5]\n",
    "space = [{'kernel': ['linear'], 'C' : C, 'epsilon' : epsilon},\n",
    "         {'kernel': ['rbf'], 'C' : C, 'gamma' : C, 'epsilon' : epsilon}]\n",
    "         \n",
    "gs = GridSearchCV(SVR(), param_grid = space, scoring = 'r2', cv = 5, n_jobs = -1)\n",
    "ge_results = gs.fit(X_train,y_train )\n",
    "print('R_Square:', format(ge_results.score(X_test, y_test)))\n",
    "print('Best parameters:', format(ge_results.best_params_))"
   ]
  },
  {
   "cell_type": "code",
   "execution_count": 94,
   "metadata": {},
   "outputs": [
    {
     "name": "stderr",
     "output_type": "stream",
     "text": [
      "C:\\Users\\Gunn\\anaconda3\\lib\\site-packages\\sklearn\\utils\\validation.py:760: DataConversionWarning: A column-vector y was passed when a 1d array was expected. Please change the shape of y to (n_samples, ), for example using ravel().\n",
      "  y = column_or_1d(y, warn=True)\n"
     ]
    },
    {
     "name": "stdout",
     "output_type": "stream",
     "text": [
      "R_Square: 0.9647854105573069\n",
      "Best parameters: {'C': 1000.0, 'epsilon': 0.1, 'gamma': 0.001, 'kernel': 'rbf'}\n"
     ]
    }
   ],
   "source": [
    "#GridSearchCV for SVR\n",
    "from sklearn.svm import SVR\n",
    "from sklearn.model_selection import GridSearchCV\n",
    "\n",
    "C = np.array([0.001, 0.01, 0.1, 1, 10, 100, 1000])\n",
    "epsilon = [0, 0.01, 0.1, 0.5, 1, 2, 4, 5]\n",
    "space = [{'kernel': ['linear'], 'C' : C, 'epsilon' : epsilon},\n",
    "         {'kernel': ['rbf'], 'C' : C, 'gamma' : C, 'epsilon' : epsilon}]\n",
    "         \n",
    "gs = GridSearchCV(SVR(), param_grid = space, scoring = 'r2', cv = 10, n_jobs = -1)\n",
    "ge_results = gs.fit(X_train,y_train )\n",
    "print('R_Square:', format(ge_results.score(X_test, y_test)))\n",
    "print('Best parameters:', format(ge_results.best_params_))"
   ]
  },
  {
   "cell_type": "markdown",
   "metadata": {},
   "source": [
    "### Implemented model from gridsearch parameters"
   ]
  },
  {
   "cell_type": "code",
   "execution_count": 11,
   "metadata": {
    "scrolled": true
   },
   "outputs": [
    {
     "name": "stderr",
     "output_type": "stream",
     "text": [
      "C:\\Users\\Gunn\\anaconda3\\lib\\site-packages\\sklearn\\utils\\validation.py:993: DataConversionWarning: A column-vector y was passed when a 1d array was expected. Please change the shape of y to (n_samples, ), for example using ravel().\n",
      "  y = column_or_1d(y, warn=True)\n"
     ]
    },
    {
     "name": "stdout",
     "output_type": "stream",
     "text": [
      "R_Square: 0.967579313940193\n",
      "MSE: 0.0324702112689208\n"
     ]
    }
   ],
   "source": [
    "from sklearn.svm import SVR\n",
    "#Implemented model from gridsearch parameters\n",
    "model = SVR(kernel = 'rbf', epsilon = 0.01, C = 100, gamma = 0.01)\n",
    "results_SVR = model.fit(X_train,y_train)\n",
    "print('R_Square:', format(results_SVR.score(X_train,y_train)))\n",
    "\n",
    "#Back-testing\n",
    "from sklearn.metrics import mean_squared_error\n",
    "\n",
    "print('MSE:', format(mean_squared_error(y_train, results_SVR.predict(X_train)))) "
   ]
  },
  {
   "cell_type": "markdown",
   "metadata": {},
   "source": [
    "### Test with Data test"
   ]
  },
  {
   "cell_type": "code",
   "execution_count": 12,
   "metadata": {},
   "outputs": [],
   "source": [
    "y_pred_SVR = results_SVR.predict(X_test)"
   ]
  },
  {
   "cell_type": "code",
   "execution_count": 13,
   "metadata": {
    "scrolled": true
   },
   "outputs": [
    {
     "data": {
      "text/plain": [
       "array([ 0.36790275, -1.31344167, -1.21659026, ..., -0.79954476,\n",
       "       -0.81651529, -0.04395668])"
      ]
     },
     "execution_count": 13,
     "metadata": {},
     "output_type": "execute_result"
    }
   ],
   "source": [
    "y_pred_SVR"
   ]
  },
  {
   "cell_type": "code",
   "execution_count": 14,
   "metadata": {},
   "outputs": [],
   "source": [
    "y_train = y_train.reshape(-1,1)\n",
    "y_test = y_test.reshape(-1,1)\n",
    "\n"
   ]
  },
  {
   "cell_type": "markdown",
   "metadata": {},
   "source": [
    "### Inverse y_Inverse"
   ]
  },
  {
   "cell_type": "code",
   "execution_count": 15,
   "metadata": {},
   "outputs": [],
   "source": [
    "from sklearn import preprocessing\n",
    "y_pred_inverse_SVR = sc_y.inverse_transform(y_pred_SVR.reshape(-1, 1))"
   ]
  },
  {
   "cell_type": "code",
   "execution_count": 16,
   "metadata": {
    "scrolled": false
   },
   "outputs": [
    {
     "data": {
      "text/html": [
       "<div>\n",
       "<style scoped>\n",
       "    .dataframe tbody tr th:only-of-type {\n",
       "        vertical-align: middle;\n",
       "    }\n",
       "\n",
       "    .dataframe tbody tr th {\n",
       "        vertical-align: top;\n",
       "    }\n",
       "\n",
       "    .dataframe thead th {\n",
       "        text-align: right;\n",
       "    }\n",
       "</style>\n",
       "<table border=\"1\" class=\"dataframe\">\n",
       "  <thead>\n",
       "    <tr style=\"text-align: right;\">\n",
       "      <th></th>\n",
       "      <th>y_test_inverse</th>\n",
       "      <th>y_pred_inverse_SVR</th>\n",
       "    </tr>\n",
       "  </thead>\n",
       "  <tbody>\n",
       "    <tr>\n",
       "      <th>0</th>\n",
       "      <td>51310.82</td>\n",
       "      <td>50407.318604</td>\n",
       "    </tr>\n",
       "    <tr>\n",
       "      <th>1</th>\n",
       "      <td>34174.08</td>\n",
       "      <td>34102.961401</td>\n",
       "    </tr>\n",
       "    <tr>\n",
       "      <th>2</th>\n",
       "      <td>35832.98</td>\n",
       "      <td>35042.150278</td>\n",
       "    </tr>\n",
       "    <tr>\n",
       "      <th>3</th>\n",
       "      <td>51160.35</td>\n",
       "      <td>51032.409994</td>\n",
       "    </tr>\n",
       "    <tr>\n",
       "      <th>4</th>\n",
       "      <td>50075.00</td>\n",
       "      <td>47720.017594</td>\n",
       "    </tr>\n",
       "    <tr>\n",
       "      <th>...</th>\n",
       "      <td>...</td>\n",
       "      <td>...</td>\n",
       "    </tr>\n",
       "    <tr>\n",
       "      <th>2780</th>\n",
       "      <td>35375.00</td>\n",
       "      <td>35667.513494</td>\n",
       "    </tr>\n",
       "    <tr>\n",
       "      <th>2781</th>\n",
       "      <td>46296.95</td>\n",
       "      <td>46004.967257</td>\n",
       "    </tr>\n",
       "    <tr>\n",
       "      <th>2782</th>\n",
       "      <td>38782.92</td>\n",
       "      <td>39086.329830</td>\n",
       "    </tr>\n",
       "    <tr>\n",
       "      <th>2783</th>\n",
       "      <td>40904.50</td>\n",
       "      <td>38921.762960</td>\n",
       "    </tr>\n",
       "    <tr>\n",
       "      <th>2784</th>\n",
       "      <td>46925.35</td>\n",
       "      <td>46413.429412</td>\n",
       "    </tr>\n",
       "  </tbody>\n",
       "</table>\n",
       "<p>2785 rows × 2 columns</p>\n",
       "</div>"
      ],
      "text/plain": [
       "      y_test_inverse  y_pred_inverse_SVR\n",
       "0           51310.82        50407.318604\n",
       "1           34174.08        34102.961401\n",
       "2           35832.98        35042.150278\n",
       "3           51160.35        51032.409994\n",
       "4           50075.00        47720.017594\n",
       "...              ...                 ...\n",
       "2780        35375.00        35667.513494\n",
       "2781        46296.95        46004.967257\n",
       "2782        38782.92        39086.329830\n",
       "2783        40904.50        38921.762960\n",
       "2784        46925.35        46413.429412\n",
       "\n",
       "[2785 rows x 2 columns]"
      ]
     },
     "execution_count": 16,
     "metadata": {},
     "output_type": "execute_result"
    }
   ],
   "source": [
    "y_pred_inverse_SVR = y_pred_inverse_SVR.reshape(-1,).tolist()\n",
    "y_test_inverse = sc_y.inverse_transform(y_test).reshape(-1,).tolist()\n",
    "arr = np.hstack((y_pred_inverse_SVR, y_test_inverse))\n",
    "df = pd.DataFrame({'y_test_inverse':y_test_inverse, 'y_pred_inverse_SVR':y_pred_inverse_SVR})\n",
    "df"
   ]
  },
  {
   "cell_type": "markdown",
   "metadata": {},
   "source": [
    "#### Estimate_y_inverse "
   ]
  },
  {
   "cell_type": "code",
   "execution_count": 17,
   "metadata": {},
   "outputs": [],
   "source": [
    "from sklearn import metrics\n",
    "R_Square_SVR = results_SVR.score(X_train,y_train)\n",
    "Mean_Absolute_Error_SVR = metrics.mean_absolute_error(y_test, y_pred_SVR)\n",
    "Mean_Squared_Error_SVR = metrics.mean_squared_error(y_test, y_pred_SVR)\n",
    "Root_Mean_Squared_Error_SVR = np.sqrt(metrics.mean_squared_error(y_test, y_pred_SVR))"
   ]
  },
  {
   "cell_type": "code",
   "execution_count": 18,
   "metadata": {},
   "outputs": [],
   "source": [
    "list_estimate_temp =[]"
   ]
  },
  {
   "cell_type": "code",
   "execution_count": 19,
   "metadata": {
    "scrolled": true
   },
   "outputs": [
    {
     "data": {
      "text/plain": [
       "[0.967579313940193,\n",
       " 0.13569391522584565,\n",
       " 0.03447055173238655,\n",
       " 0.18566246721506893]"
      ]
     },
     "execution_count": 19,
     "metadata": {},
     "output_type": "execute_result"
    }
   ],
   "source": [
    "list_estimate = [R_Square_SVR,Mean_Absolute_Error_SVR,Mean_Squared_Error_SVR,Root_Mean_Squared_Error_SVR]\n",
    "list_estimate_temp.append(list_estimate)\n",
    "list_estimate"
   ]
  },
  {
   "cell_type": "markdown",
   "metadata": {},
   "source": [
    "#### Estimate_y"
   ]
  },
  {
   "cell_type": "code",
   "execution_count": 20,
   "metadata": {},
   "outputs": [
    {
     "data": {
      "text/plain": [
       "[[1315.8529774134836, 3241471.613592897, 1800.408735146799]]"
      ]
     },
     "execution_count": 20,
     "metadata": {},
     "output_type": "execute_result"
    }
   ],
   "source": [
    "list_estimate_temp_y =[]\n",
    "\n",
    "from sklearn import metrics\n",
    "R_Square_SVR_y = results_SVR.score(X_train,y_train)\n",
    "Mean_Absolute_Error_SVR_y = metrics.mean_absolute_error(y_test_inverse, y_pred_inverse_SVR)\n",
    "Mean_Squared_Error_SVR_y = metrics.mean_squared_error(y_test_inverse, y_pred_inverse_SVR)\n",
    "Root_Mean_Squared_Error_SVR_y = np.sqrt(metrics.mean_squared_error(y_test_inverse, y_pred_inverse_SVR))\n",
    "\n",
    "list_estimate_y = [Mean_Absolute_Error_SVR_y,Mean_Squared_Error_SVR_y,Root_Mean_Squared_Error_SVR_y]\n",
    "list_estimate_temp_y.append(list_estimate_y)\n",
    "list_estimate_temp_y"
   ]
  },
  {
   "cell_type": "markdown",
   "metadata": {},
   "source": [
    "### Plot line graph  100 point"
   ]
  },
  {
   "cell_type": "code",
   "execution_count": 21,
   "metadata": {},
   "outputs": [],
   "source": [
    "# importing package\n",
    "import matplotlib.pyplot as plt"
   ]
  },
  {
   "cell_type": "code",
   "execution_count": 22,
   "metadata": {},
   "outputs": [
    {
     "data": {
      "text/plain": [
       "array([  1,   2,   3,   4,   5,   6,   7,   8,   9,  10,  11,  12,  13,\n",
       "        14,  15,  16,  17,  18,  19,  20,  21,  22,  23,  24,  25,  26,\n",
       "        27,  28,  29,  30,  31,  32,  33,  34,  35,  36,  37,  38,  39,\n",
       "        40,  41,  42,  43,  44,  45,  46,  47,  48,  49,  50,  51,  52,\n",
       "        53,  54,  55,  56,  57,  58,  59,  60,  61,  62,  63,  64,  65,\n",
       "        66,  67,  68,  69,  70,  71,  72,  73,  74,  75,  76,  77,  78,\n",
       "        79,  80,  81,  82,  83,  84,  85,  86,  87,  88,  89,  90,  91,\n",
       "        92,  93,  94,  95,  96,  97,  98,  99, 100])"
      ]
     },
     "execution_count": 22,
     "metadata": {},
     "output_type": "execute_result"
    }
   ],
   "source": [
    "x = np.arange(1,101) \n",
    "x"
   ]
  },
  {
   "cell_type": "code",
   "execution_count": 23,
   "metadata": {},
   "outputs": [
    {
     "data": {
      "image/png": "[encoded data removed]",
      "text/plain": [
       "<Figure size 800x640 with 1 Axes>"
      ]
     },
     "metadata": {
      "needs_background": "light"
     },
     "output_type": "display_data"
    }
   ],
   "source": [
    "\n",
    "# importing package\n",
    "import matplotlib.pyplot as pltฃ\n",
    "\n",
    "from matplotlib.pyplot import figure\n",
    "\n",
    "figure(figsize=(10, 8), dpi=80)\n",
    "\n",
    "# plot lines\n",
    "plt.plot(x, y_test_inverse[:100], label = \"line 1\")\n",
    "plt.plot(x, y_pred_inverse_SVR[:100], label = \"line 2\")\n",
    "plt.legend()\n",
    "plt.show()\n",
    "\n",
    "\n"
   ]
  },
  {
   "cell_type": "code",
   "execution_count": null,
   "metadata": {},
   "outputs": [],
   "source": []
  },
  {
   "cell_type": "markdown",
   "metadata": {},
   "source": [
    "# 2.  HistGradientBoostingRegressor"
   ]
  },
  {
   "cell_type": "code",
   "execution_count": 63,
   "metadata": {
    "scrolled": true
   },
   "outputs": [
    {
     "name": "stdout",
     "output_type": "stream",
     "text": [
      "{'bootstrap': [True, False],\n",
      " 'max_depth': [10, 20, 30, 40, 50, 60, 70, 80, 90, 100, 110, None],\n",
      " 'max_features': ['auto', 'sqrt'],\n",
      " 'min_samples_leaf': [1, 2, 4],\n",
      " 'min_samples_split': [2, 5, 10],\n",
      " 'n_estimators': [200, 400, 600, 800, 1000, 1200, 1400, 1600, 1800, 2000]}\n"
     ]
    }
   ],
   "source": [
    "from pprint import pprint\n",
    "# Number of trees in random forest\n",
    "n_estimators = [int(x) for x in np.linspace(start = 200, stop = 2000, num = 10)]\n",
    "# Number of features to consider at every split\n",
    "max_features = ['auto', 'sqrt']\n",
    "# Maximum number of levels in tree\n",
    "max_depth = [int(x) for x in np.linspace(10, 110, num = 11)]\n",
    "max_depth.append(None)\n",
    "# Minimum number of samples required to split a node\n",
    "min_samples_split = [2, 5, 10]\n",
    "# Minimum number of samples required at each leaf node\n",
    "min_samples_leaf = [1, 2, 4]\n",
    "# Method of selecting samples for training each tree\n",
    "bootstrap = [True, False]\n",
    "# Create the random grid\n",
    "random_grid = {'n_estimators': n_estimators,\n",
    "               'max_features': max_features,\n",
    "               'max_depth': max_depth,\n",
    "               'min_samples_split': min_samples_split,\n",
    "               'min_samples_leaf': min_samples_leaf,\n",
    "               'bootstrap': bootstrap}\n",
    "pprint(random_grid)\n"
   ]
  },
  {
   "cell_type": "code",
   "execution_count": 24,
   "metadata": {},
   "outputs": [],
   "source": [
    "from sklearn.model_selection import train_test_split\n",
    "from sklearn.model_selection import GridSearchCV\n",
    "from sklearn.ensemble import HistGradientBoostingRegressor"
   ]
  },
  {
   "cell_type": "code",
   "execution_count": 64,
   "metadata": {},
   "outputs": [
    {
     "name": "stderr",
     "output_type": "stream",
     "text": [
      "C:\\Users\\Gunn\\anaconda3\\lib\\site-packages\\sklearn\\utils\\validation.py:993: DataConversionWarning: A column-vector y was passed when a 1d array was expected. Please change the shape of y to (n_samples, ), for example using ravel().\n",
      "  y = column_or_1d(y, warn=True)\n"
     ]
    },
    {
     "name": "stdout",
     "output_type": "stream",
     "text": [
      " Results from Grid Search \n",
      "\n",
      " The best estimator across ALL searched params:\n",
      " HistGradientBoostingRegressor(learning_rate=0.01, max_depth=20, max_iter=500,\n",
      "                              min_samples_leaf=4)\n",
      "\n",
      " The best score across ALL searched params:\n",
      " 0.9671549817136988\n",
      "\n",
      " The best parameters across ALL searched params:\n",
      " {'learning_rate': 0.01, 'max_depth': 20, 'max_iter': 500, 'min_samples_leaf': 4}\n"
     ]
    }
   ],
   "source": [
    "\n",
    "\n",
    "\n",
    "\n",
    "\n",
    "GBR = HistGradientBoostingRegressor()\n",
    "parameters = {'learning_rate': [0.01,0.02,0.03,0.04],\n",
    "               'max_depth': max_depth,\n",
    "               'max_iter': [500,1000, 1200],\n",
    "               'min_samples_leaf': min_samples_leaf\n",
    "              \n",
    "                 }\n",
    "grid_GBR = GridSearchCV(estimator=GBR, param_grid = parameters, cv = 2, n_jobs=-1)\n",
    "grid_GBR.fit(X_train, y_train)\n",
    "\n",
    "print(\" Results from Grid Search \" )\n",
    "print(\"\\n The best estimator across ALL searched params:\\n\",grid_GBR.best_estimator_)\n",
    "print(\"\\n The best score across ALL searched params:\\n\",grid_GBR.best_score_)\n",
    "print(\"\\n The best parameters across ALL searched params:\\n\",grid_GBR.best_params_)"
   ]
  },
  {
   "cell_type": "markdown",
   "metadata": {},
   "source": [
    "### Implemented model from gridsearch parameters"
   ]
  },
  {
   "cell_type": "code",
   "execution_count": 25,
   "metadata": {},
   "outputs": [
    {
     "name": "stderr",
     "output_type": "stream",
     "text": [
      "C:\\Users\\Gunn\\anaconda3\\lib\\site-packages\\sklearn\\utils\\validation.py:993: DataConversionWarning: A column-vector y was passed when a 1d array was expected. Please change the shape of y to (n_samples, ), for example using ravel().\n",
      "  y = column_or_1d(y, warn=True)\n"
     ]
    },
    {
     "data": {
      "text/plain": [
       "HistGradientBoostingRegressor(learning_rate=0.01, max_depth=20, max_iter=500,\n",
       "                              min_samples_leaf=4)"
      ]
     },
     "execution_count": 25,
     "metadata": {},
     "output_type": "execute_result"
    }
   ],
   "source": [
    "\n",
    "GBR =  HistGradientBoostingRegressor(learning_rate=0.01, max_depth=20, max_iter=500,\n",
    "                              min_samples_leaf=4)\n",
    "# Fit the random search model\n",
    "GBR.fit(X_train, y_train)"
   ]
  },
  {
   "cell_type": "code",
   "execution_count": 26,
   "metadata": {},
   "outputs": [
    {
     "name": "stdout",
     "output_type": "stream",
     "text": [
      "R_Square: 0.9772160665656079\n",
      "MSE: 0.022818737727727936\n"
     ]
    }
   ],
   "source": [
    "print('R_Square:', format(GBR.score(X_train,y_train)))\n",
    "\n",
    "#Back-testing\n",
    "from sklearn.metrics import mean_squared_error\n",
    "\n",
    "print('MSE:', format(mean_squared_error(y_train, GBR.predict(X_train))))"
   ]
  },
  {
   "cell_type": "markdown",
   "metadata": {},
   "source": [
    "### Test with Data test"
   ]
  },
  {
   "cell_type": "code",
   "execution_count": 27,
   "metadata": {
    "scrolled": true
   },
   "outputs": [
    {
     "data": {
      "text/plain": [
       "array([[ 0.3681333 ],\n",
       "       [-1.30209527],\n",
       "       [-1.21187616],\n",
       "       ...,\n",
       "       [-0.81736887],\n",
       "       [-0.90720087],\n",
       "       [-0.00581509]])"
      ]
     },
     "execution_count": 27,
     "metadata": {},
     "output_type": "execute_result"
    }
   ],
   "source": [
    "y_pred_GBR = GBR.predict(X_test).reshape(-1, 1)\n",
    "y_pred_GBR"
   ]
  },
  {
   "cell_type": "markdown",
   "metadata": {},
   "source": [
    "#### Estimate_y_inverse"
   ]
  },
  {
   "cell_type": "code",
   "execution_count": 28,
   "metadata": {},
   "outputs": [],
   "source": [
    "from sklearn import metrics\n",
    "R_Square_GBR = GBR.score(X_train,y_train)\n",
    "Mean_Absolute_Error_GBR = metrics.mean_absolute_error(y_test, y_pred_GBR)\n",
    "Mean_Squared_Error_GBR = metrics.mean_squared_error(y_test, y_pred_GBR)\n",
    "Root_Mean_Squared_Error_GBR = np.sqrt(metrics.mean_squared_error(y_test, y_pred_GBR))"
   ]
  },
  {
   "cell_type": "code",
   "execution_count": 29,
   "metadata": {},
   "outputs": [
    {
     "data": {
      "text/plain": [
       "[[0.967579313940193,\n",
       "  0.13569391522584565,\n",
       "  0.03447055173238655,\n",
       "  0.18566246721506893],\n",
       " [0.9772160665656079,\n",
       "  0.1330509578693135,\n",
       "  0.03238599899081373,\n",
       "  0.17996110410534197]]"
      ]
     },
     "execution_count": 29,
     "metadata": {},
     "output_type": "execute_result"
    }
   ],
   "source": [
    "list_estimate = [R_Square_GBR,Mean_Absolute_Error_GBR,Mean_Squared_Error_GBR,Root_Mean_Squared_Error_GBR]\n",
    "list_estimate_temp.append(list_estimate)\n",
    "list_estimate_temp"
   ]
  },
  {
   "cell_type": "code",
   "execution_count": 30,
   "metadata": {
    "scrolled": true
   },
   "outputs": [],
   "source": [
    "from sklearn import preprocessing\n",
    "y_pred_inverse_GBR = sc_y.inverse_transform(y_pred_GBR).reshape(-1,).tolist()"
   ]
  },
  {
   "cell_type": "code",
   "execution_count": 31,
   "metadata": {},
   "outputs": [],
   "source": [
    "y_test_inverse = sc_y.inverse_transform(y_test).reshape(-1,)"
   ]
  },
  {
   "cell_type": "code",
   "execution_count": 32,
   "metadata": {
    "scrolled": true
   },
   "outputs": [
    {
     "data": {
      "text/html": [
       "<div>\n",
       "<style scoped>\n",
       "    .dataframe tbody tr th:only-of-type {\n",
       "        vertical-align: middle;\n",
       "    }\n",
       "\n",
       "    .dataframe tbody tr th {\n",
       "        vertical-align: top;\n",
       "    }\n",
       "\n",
       "    .dataframe thead th {\n",
       "        text-align: right;\n",
       "    }\n",
       "</style>\n",
       "<table border=\"1\" class=\"dataframe\">\n",
       "  <thead>\n",
       "    <tr style=\"text-align: right;\">\n",
       "      <th></th>\n",
       "      <th>y_test_inverse</th>\n",
       "      <th>y_pred_inverse_SVR</th>\n",
       "      <th>y_pred_inverse_GBR</th>\n",
       "    </tr>\n",
       "  </thead>\n",
       "  <tbody>\n",
       "    <tr>\n",
       "      <th>0</th>\n",
       "      <td>51310.82</td>\n",
       "      <td>50407.318604</td>\n",
       "      <td>50409.554215</td>\n",
       "    </tr>\n",
       "    <tr>\n",
       "      <th>1</th>\n",
       "      <td>34174.08</td>\n",
       "      <td>34102.961401</td>\n",
       "      <td>34212.989837</td>\n",
       "    </tr>\n",
       "    <tr>\n",
       "      <th>2</th>\n",
       "      <td>35832.98</td>\n",
       "      <td>35042.150278</td>\n",
       "      <td>35087.863891</td>\n",
       "    </tr>\n",
       "    <tr>\n",
       "      <th>3</th>\n",
       "      <td>51160.35</td>\n",
       "      <td>51032.409994</td>\n",
       "      <td>50437.389650</td>\n",
       "    </tr>\n",
       "    <tr>\n",
       "      <th>4</th>\n",
       "      <td>50075.00</td>\n",
       "      <td>47720.017594</td>\n",
       "      <td>48957.572806</td>\n",
       "    </tr>\n",
       "    <tr>\n",
       "      <th>...</th>\n",
       "      <td>...</td>\n",
       "      <td>...</td>\n",
       "      <td>...</td>\n",
       "    </tr>\n",
       "    <tr>\n",
       "      <th>2780</th>\n",
       "      <td>35375.00</td>\n",
       "      <td>35667.513494</td>\n",
       "      <td>35280.235098</td>\n",
       "    </tr>\n",
       "    <tr>\n",
       "      <th>2781</th>\n",
       "      <td>46296.95</td>\n",
       "      <td>46004.967257</td>\n",
       "      <td>46249.490444</td>\n",
       "    </tr>\n",
       "    <tr>\n",
       "      <th>2782</th>\n",
       "      <td>38782.92</td>\n",
       "      <td>39086.329830</td>\n",
       "      <td>38913.485672</td>\n",
       "    </tr>\n",
       "    <tr>\n",
       "      <th>2783</th>\n",
       "      <td>40904.50</td>\n",
       "      <td>38921.762960</td>\n",
       "      <td>38042.365510</td>\n",
       "    </tr>\n",
       "    <tr>\n",
       "      <th>2784</th>\n",
       "      <td>46925.35</td>\n",
       "      <td>46413.429412</td>\n",
       "      <td>46783.296550</td>\n",
       "    </tr>\n",
       "  </tbody>\n",
       "</table>\n",
       "<p>2785 rows × 3 columns</p>\n",
       "</div>"
      ],
      "text/plain": [
       "      y_test_inverse  y_pred_inverse_SVR  y_pred_inverse_GBR\n",
       "0           51310.82        50407.318604        50409.554215\n",
       "1           34174.08        34102.961401        34212.989837\n",
       "2           35832.98        35042.150278        35087.863891\n",
       "3           51160.35        51032.409994        50437.389650\n",
       "4           50075.00        47720.017594        48957.572806\n",
       "...              ...                 ...                 ...\n",
       "2780        35375.00        35667.513494        35280.235098\n",
       "2781        46296.95        46004.967257        46249.490444\n",
       "2782        38782.92        39086.329830        38913.485672\n",
       "2783        40904.50        38921.762960        38042.365510\n",
       "2784        46925.35        46413.429412        46783.296550\n",
       "\n",
       "[2785 rows x 3 columns]"
      ]
     },
     "execution_count": 32,
     "metadata": {},
     "output_type": "execute_result"
    }
   ],
   "source": [
    "df = pd.DataFrame({'y_test_inverse':y_test_inverse, 'y_pred_inverse_SVR':y_pred_inverse_SVR, 'y_pred_inverse_GBR':y_pred_inverse_GBR})\n",
    "df"
   ]
  },
  {
   "cell_type": "markdown",
   "metadata": {},
   "source": [
    "#### Estimate_y"
   ]
  },
  {
   "cell_type": "code",
   "execution_count": 33,
   "metadata": {},
   "outputs": [
    {
     "data": {
      "text/plain": [
       "[[1315.8529774134836, 3241471.613592897, 1800.408735146799],\n",
       " [1290.223653497364, 3045448.6838961546, 1745.1213951746035]]"
      ]
     },
     "execution_count": 33,
     "metadata": {},
     "output_type": "execute_result"
    }
   ],
   "source": [
    "# list_estimate_temp =[]\n",
    "\n",
    "from sklearn import metrics\n",
    "R_Square_GBR_y = GBR.score(X_train,y_train)\n",
    "Mean_Absolute_Error_GBR_y = metrics.mean_absolute_error(y_test_inverse, y_pred_inverse_GBR)\n",
    "Mean_Squared_Error_GBR_y = metrics.mean_squared_error(y_test_inverse, y_pred_inverse_GBR)\n",
    "Root_Mean_Squared_Error_GBR_y = np.sqrt(metrics.mean_squared_error(y_test_inverse, y_pred_inverse_GBR))\n",
    "\n",
    "list_estimate_y = [Mean_Absolute_Error_GBR_y,Mean_Squared_Error_GBR_y,Root_Mean_Squared_Error_GBR_y]\n",
    "list_estimate_temp_y.append(list_estimate_y)\n",
    "list_estimate_temp_y"
   ]
  },
  {
   "cell_type": "code",
   "execution_count": 34,
   "metadata": {},
   "outputs": [
    {
     "data": {
      "image/png": "[encoded data removed]",
      "text/plain": [
       "<Figure size 640x320 with 1 Axes>"
      ]
     },
     "metadata": {
      "needs_background": "light"
     },
     "output_type": "display_data"
    }
   ],
   "source": [
    "x = np.arange(1,101) \n",
    "\n",
    "# importing package\n",
    "import matplotlib.pyplot as pltฃ\n",
    "\n",
    "from matplotlib.pyplot import figure\n",
    "\n",
    "figure(figsize=(8, 4), dpi=80)\n",
    "\n",
    "# plot lines\n",
    "plt.plot(x, y_test_inverse[:100], label = \"y test\")\n",
    "plt.plot(x, y_pred_inverse_GBR[:100], label = \"y pred\")\n",
    "plt.legend()\n",
    "plt.show()\n"
   ]
  },
  {
   "cell_type": "code",
   "execution_count": null,
   "metadata": {},
   "outputs": [],
   "source": []
  },
  {
   "cell_type": "markdown",
   "metadata": {},
   "source": [
    "## 3. MLP Regression"
   ]
  },
  {
   "cell_type": "code",
   "execution_count": 35,
   "metadata": {},
   "outputs": [
    {
     "name": "stderr",
     "output_type": "stream",
     "text": [
      "C:\\Users\\Gunn\\anaconda3\\lib\\site-packages\\sklearn\\neural_network\\_multilayer_perceptron.py:1599: DataConversionWarning: A column-vector y was passed when a 1d array was expected. Please change the shape of y to (n_samples, ), for example using ravel().\n",
      "  y = column_or_1d(y, warn=True)\n"
     ]
    }
   ],
   "source": [
    "from sklearn.neural_network import MLPRegressor\n",
    "from sklearn.datasets import make_regression\n",
    "\n",
    "MLP_regr = MLPRegressor(random_state=1, max_iter=500).fit(X_train, y_train)\n",
    "\n"
   ]
  },
  {
   "cell_type": "code",
   "execution_count": 36,
   "metadata": {},
   "outputs": [
    {
     "name": "stdout",
     "output_type": "stream",
     "text": [
      "R_Square: 0.9669329982060068\n",
      "MSE: 0.033117514302445215\n"
     ]
    }
   ],
   "source": [
    "print('R_Square:', format(MLP_regr.score(X_train,y_train)))\n",
    "\n",
    "#Back-testing\n",
    "from sklearn.metrics import mean_squared_error\n",
    "\n",
    "print('MSE:', format(mean_squared_error(y_train, MLP_regr.predict(X_train))))"
   ]
  },
  {
   "cell_type": "markdown",
   "metadata": {},
   "source": [
    "### Test with Data test"
   ]
  },
  {
   "cell_type": "code",
   "execution_count": 37,
   "metadata": {},
   "outputs": [],
   "source": [
    "y_pred_MLP = MLP_regr.predict(X_test).reshape(-1, 1)"
   ]
  },
  {
   "cell_type": "code",
   "execution_count": 38,
   "metadata": {},
   "outputs": [
    {
     "data": {
      "text/plain": [
       "0.9646295113224944"
      ]
     },
     "execution_count": 38,
     "metadata": {},
     "output_type": "execute_result"
    }
   ],
   "source": [
    "MLP_regr.predict(X_test)\n",
    "\n",
    "MLP_regr.score(X_test, y_test)"
   ]
  },
  {
   "cell_type": "code",
   "execution_count": 39,
   "metadata": {},
   "outputs": [],
   "source": [
    "from sklearn import metrics\n",
    "R_Square_MLP = MLP_regr.score(X_train,y_train)\n",
    "Mean_Absolute_Error_MLP = metrics.mean_absolute_error(y_test, y_pred_MLP)\n",
    "Mean_Squared_Error_MLP = metrics.mean_squared_error(y_test, y_pred_MLP)\n",
    "Root_Mean_Squared_Error_MLP = np.sqrt(metrics.mean_squared_error(y_test, y_pred_MLP))"
   ]
  },
  {
   "cell_type": "code",
   "execution_count": 40,
   "metadata": {},
   "outputs": [
    {
     "data": {
      "text/plain": [
       "[[0.967579313940193,\n",
       "  0.13569391522584565,\n",
       "  0.03447055173238655,\n",
       "  0.18566246721506893],\n",
       " [0.9772160665656079,\n",
       "  0.1330509578693135,\n",
       "  0.03238599899081373,\n",
       "  0.17996110410534197],\n",
       " [0.9669329982060068,\n",
       "  0.14032687123158696,\n",
       "  0.0352337379882415,\n",
       "  0.18770652089962536]]"
      ]
     },
     "execution_count": 40,
     "metadata": {},
     "output_type": "execute_result"
    }
   ],
   "source": [
    "list_estimate = [R_Square_MLP,Mean_Absolute_Error_MLP,Mean_Squared_Error_MLP,Root_Mean_Squared_Error_MLP]\n",
    "list_estimate_temp.append(list_estimate)\n",
    "list_estimate_temp"
   ]
  },
  {
   "cell_type": "markdown",
   "metadata": {},
   "source": [
    "### Inverse y"
   ]
  },
  {
   "cell_type": "code",
   "execution_count": 41,
   "metadata": {},
   "outputs": [],
   "source": [
    "from sklearn import preprocessing\n",
    "y_pred_inverse_MLP = sc_y.inverse_transform(y_pred_MLP).reshape(-1, 1)"
   ]
  },
  {
   "cell_type": "code",
   "execution_count": 42,
   "metadata": {},
   "outputs": [],
   "source": [
    "y_pred_inverse_MLP = y_pred_inverse_MLP.reshape(-1,)"
   ]
  },
  {
   "cell_type": "code",
   "execution_count": 43,
   "metadata": {},
   "outputs": [],
   "source": [
    "y_test_inverse = sc_y.inverse_transform(y_test).reshape(-1,)"
   ]
  },
  {
   "cell_type": "code",
   "execution_count": 44,
   "metadata": {
    "scrolled": true
   },
   "outputs": [
    {
     "data": {
      "text/html": [
       "<div>\n",
       "<style scoped>\n",
       "    .dataframe tbody tr th:only-of-type {\n",
       "        vertical-align: middle;\n",
       "    }\n",
       "\n",
       "    .dataframe tbody tr th {\n",
       "        vertical-align: top;\n",
       "    }\n",
       "\n",
       "    .dataframe thead th {\n",
       "        text-align: right;\n",
       "    }\n",
       "</style>\n",
       "<table border=\"1\" class=\"dataframe\">\n",
       "  <thead>\n",
       "    <tr style=\"text-align: right;\">\n",
       "      <th></th>\n",
       "      <th>y_test_inverse</th>\n",
       "      <th>y_pred_inverse_SVR</th>\n",
       "      <th>y_pred_inverse_GBR</th>\n",
       "      <th>y_pred_inverse_MLP</th>\n",
       "    </tr>\n",
       "  </thead>\n",
       "  <tbody>\n",
       "    <tr>\n",
       "      <th>0</th>\n",
       "      <td>51310.82</td>\n",
       "      <td>50407.318604</td>\n",
       "      <td>50409.554215</td>\n",
       "      <td>50338.292123</td>\n",
       "    </tr>\n",
       "    <tr>\n",
       "      <th>1</th>\n",
       "      <td>34174.08</td>\n",
       "      <td>34102.961401</td>\n",
       "      <td>34212.989837</td>\n",
       "      <td>34318.242682</td>\n",
       "    </tr>\n",
       "    <tr>\n",
       "      <th>2</th>\n",
       "      <td>35832.98</td>\n",
       "      <td>35042.150278</td>\n",
       "      <td>35087.863891</td>\n",
       "      <td>34690.208075</td>\n",
       "    </tr>\n",
       "    <tr>\n",
       "      <th>3</th>\n",
       "      <td>51160.35</td>\n",
       "      <td>51032.409994</td>\n",
       "      <td>50437.389650</td>\n",
       "      <td>51218.543635</td>\n",
       "    </tr>\n",
       "    <tr>\n",
       "      <th>4</th>\n",
       "      <td>50075.00</td>\n",
       "      <td>47720.017594</td>\n",
       "      <td>48957.572806</td>\n",
       "      <td>46681.777562</td>\n",
       "    </tr>\n",
       "    <tr>\n",
       "      <th>...</th>\n",
       "      <td>...</td>\n",
       "      <td>...</td>\n",
       "      <td>...</td>\n",
       "      <td>...</td>\n",
       "    </tr>\n",
       "    <tr>\n",
       "      <th>2780</th>\n",
       "      <td>35375.00</td>\n",
       "      <td>35667.513494</td>\n",
       "      <td>35280.235098</td>\n",
       "      <td>35239.593038</td>\n",
       "    </tr>\n",
       "    <tr>\n",
       "      <th>2781</th>\n",
       "      <td>46296.95</td>\n",
       "      <td>46004.967257</td>\n",
       "      <td>46249.490444</td>\n",
       "      <td>46370.643369</td>\n",
       "    </tr>\n",
       "    <tr>\n",
       "      <th>2782</th>\n",
       "      <td>38782.92</td>\n",
       "      <td>39086.329830</td>\n",
       "      <td>38913.485672</td>\n",
       "      <td>38952.591448</td>\n",
       "    </tr>\n",
       "    <tr>\n",
       "      <th>2783</th>\n",
       "      <td>40904.50</td>\n",
       "      <td>38921.762960</td>\n",
       "      <td>38042.365510</td>\n",
       "      <td>38515.397326</td>\n",
       "    </tr>\n",
       "    <tr>\n",
       "      <th>2784</th>\n",
       "      <td>46925.35</td>\n",
       "      <td>46413.429412</td>\n",
       "      <td>46783.296550</td>\n",
       "      <td>46898.149709</td>\n",
       "    </tr>\n",
       "  </tbody>\n",
       "</table>\n",
       "<p>2785 rows × 4 columns</p>\n",
       "</div>"
      ],
      "text/plain": [
       "      y_test_inverse  y_pred_inverse_SVR  y_pred_inverse_GBR  \\\n",
       "0           51310.82        50407.318604        50409.554215   \n",
       "1           34174.08        34102.961401        34212.989837   \n",
       "2           35832.98        35042.150278        35087.863891   \n",
       "3           51160.35        51032.409994        50437.389650   \n",
       "4           50075.00        47720.017594        48957.572806   \n",
       "...              ...                 ...                 ...   \n",
       "2780        35375.00        35667.513494        35280.235098   \n",
       "2781        46296.95        46004.967257        46249.490444   \n",
       "2782        38782.92        39086.329830        38913.485672   \n",
       "2783        40904.50        38921.762960        38042.365510   \n",
       "2784        46925.35        46413.429412        46783.296550   \n",
       "\n",
       "      y_pred_inverse_MLP  \n",
       "0           50338.292123  \n",
       "1           34318.242682  \n",
       "2           34690.208075  \n",
       "3           51218.543635  \n",
       "4           46681.777562  \n",
       "...                  ...  \n",
       "2780        35239.593038  \n",
       "2781        46370.643369  \n",
       "2782        38952.591448  \n",
       "2783        38515.397326  \n",
       "2784        46898.149709  \n",
       "\n",
       "[2785 rows x 4 columns]"
      ]
     },
     "execution_count": 44,
     "metadata": {},
     "output_type": "execute_result"
    }
   ],
   "source": [
    "df = pd.DataFrame({'y_test_inverse':y_test_inverse, 'y_pred_inverse_SVR':y_pred_inverse_SVR, 'y_pred_inverse_GBR':y_pred_inverse_GBR, 'y_pred_inverse_MLP':y_pred_inverse_MLP})\n",
    "df"
   ]
  },
  {
   "cell_type": "markdown",
   "metadata": {},
   "source": [
    "#### Estimate_y"
   ]
  },
  {
   "cell_type": "code",
   "execution_count": 45,
   "metadata": {},
   "outputs": [
    {
     "data": {
      "text/plain": [
       "[[1315.8529774134836, 3241471.613592897, 1800.408735146799],\n",
       " [1290.223653497364, 3045448.6838961546, 1745.1213951746035],\n",
       " [1360.7797447208748, 3313238.5700212093, 1820.2303618007281]]"
      ]
     },
     "execution_count": 45,
     "metadata": {},
     "output_type": "execute_result"
    }
   ],
   "source": [
    "from sklearn import metrics\n",
    "R_Square_MLP_y = MLP_regr.score(X_train,y_train)\n",
    "Mean_Absolute_Error_MLP_y = metrics.mean_absolute_error(y_test_inverse, y_pred_inverse_MLP)\n",
    "Mean_Squared_Error_MLP_y = metrics.mean_squared_error(y_test_inverse, y_pred_inverse_MLP)\n",
    "Root_Mean_Squared_Error_MLP_y = np.sqrt(metrics.mean_squared_error(y_test_inverse, y_pred_inverse_MLP))\n",
    "\n",
    "list_estimate_y = [Mean_Absolute_Error_MLP_y,Mean_Squared_Error_MLP_y,Root_Mean_Squared_Error_MLP_y]\n",
    "list_estimate_temp_y.append(list_estimate_y)\n",
    "list_estimate_temp_y"
   ]
  },
  {
   "cell_type": "code",
   "execution_count": 46,
   "metadata": {},
   "outputs": [
    {
     "data": {
      "image/png": "[encoded data removed]",
      "text/plain": [
       "<Figure size 640x320 with 1 Axes>"
      ]
     },
     "metadata": {
      "needs_background": "light"
     },
     "output_type": "display_data"
    }
   ],
   "source": [
    "x = np.arange(1,101) \n",
    "\n",
    "# importing package\n",
    "import matplotlib.pyplot as plt\n",
    "\n",
    "from matplotlib.pyplot import figure\n",
    "\n",
    "figure(figsize=(8, 4), dpi=80)\n",
    "\n",
    "# plot lines\n",
    "plt.plot(x, y_test_inverse[:100], label = \"y test\")\n",
    "plt.plot(x, y_pred_inverse_MLP[:100], label = \"y pred\")\n",
    "plt.legend()\n",
    "plt.show()\n",
    "\n"
   ]
  },
  {
   "cell_type": "code",
   "execution_count": null,
   "metadata": {},
   "outputs": [],
   "source": []
  },
  {
   "cell_type": "markdown",
   "metadata": {},
   "source": [
    "## 4. AdaBoostRegressor"
   ]
  },
  {
   "cell_type": "code",
   "execution_count": 87,
   "metadata": {
    "scrolled": true
   },
   "outputs": [
    {
     "name": "stdout",
     "output_type": "stream",
     "text": [
      "{'learning_rate': [0.001, 0.01, 0.1],\n",
      " 'n_estimators': [200, 400, 600, 800, 1000, 1200, 1400, 1600, 1800, 2000]}\n"
     ]
    }
   ],
   "source": [
    "from pprint import pprint\n",
    "# Number of trees in random forest\n",
    "n_estimators = [int(x) for x in np.linspace(start = 200, stop = 2000, num = 10)]\n",
    "\n",
    "\n",
    "param_grid = {'n_estimators': n_estimators,\n",
    "               'learning_rate':[.001,0.01,.1]\n",
    "            }\n",
    "pprint(param_grid)\n"
   ]
  },
  {
   "cell_type": "code",
   "execution_count": 47,
   "metadata": {},
   "outputs": [],
   "source": [
    "from sklearn.ensemble import AdaBoostRegressor\n",
    "from sklearn.model_selection import GridSearchCV\n"
   ]
  },
  {
   "cell_type": "code",
   "execution_count": 88,
   "metadata": {},
   "outputs": [
    {
     "name": "stdout",
     "output_type": "stream",
     "text": [
      "R_Square: 0.9576259699379083\n",
      "Best parameters: {'learning_rate': 0.01, 'n_estimators': 400}\n"
     ]
    }
   ],
   "source": [
    "\n",
    "\n",
    "ABC = AdaBoostRegressor()\n",
    "\n",
    "# run grid search\n",
    "grid_search_ABC = GridSearchCV(ABC, param_grid=param_grid)\n",
    "ge_results = grid_search_ABC.fit(X_train,y_train.ravel() )\n",
    "print('R_Square:', format(ge_results.score(X_test, y_test)))\n",
    "print('Best parameters:', format(ge_results.best_params_))"
   ]
  },
  {
   "cell_type": "markdown",
   "metadata": {},
   "source": [
    "### Implemented model from gridsearch parameters"
   ]
  },
  {
   "cell_type": "code",
   "execution_count": 48,
   "metadata": {},
   "outputs": [
    {
     "name": "stderr",
     "output_type": "stream",
     "text": [
      "C:\\Users\\Gunn\\anaconda3\\lib\\site-packages\\sklearn\\utils\\validation.py:993: DataConversionWarning: A column-vector y was passed when a 1d array was expected. Please change the shape of y to (n_samples, ), for example using ravel().\n",
      "  y = column_or_1d(y, warn=True)\n"
     ]
    },
    {
     "data": {
      "text/plain": [
       "AdaBoostRegressor(learning_rate=0.01, n_estimators=400)"
      ]
     },
     "execution_count": 48,
     "metadata": {},
     "output_type": "execute_result"
    }
   ],
   "source": [
    "\n",
    "AdaBoost_regr = AdaBoostRegressor(learning_rate= 0.01, n_estimators= 400)\n",
    "AdaBoost_regr.fit(X_train,y_train )\n"
   ]
  },
  {
   "cell_type": "code",
   "execution_count": 49,
   "metadata": {},
   "outputs": [
    {
     "name": "stdout",
     "output_type": "stream",
     "text": [
      "R_Square: 0.9611646032116848\n",
      "MSE: 0.038894720984706664\n"
     ]
    }
   ],
   "source": [
    "print('R_Square:', format(AdaBoost_regr.score(X_train,y_train)))\n",
    "\n",
    "#Back-testing\n",
    "from sklearn.metrics import mean_squared_error\n",
    "\n",
    "print('MSE:', format(mean_squared_error(y_train, AdaBoost_regr.predict(X_train))))"
   ]
  },
  {
   "cell_type": "code",
   "execution_count": 60,
   "metadata": {},
   "outputs": [
    {
     "data": {
      "text/plain": [
       "0.958048212752185"
      ]
     },
     "execution_count": 60,
     "metadata": {},
     "output_type": "execute_result"
    }
   ],
   "source": [
    "AdaBoost_regr.predict(X_test)\n",
    "\n",
    "AdaBoost_regr.score(X_test, y_test)"
   ]
  },
  {
   "cell_type": "markdown",
   "metadata": {},
   "source": [
    "### Test with Data test"
   ]
  },
  {
   "cell_type": "code",
   "execution_count": 50,
   "metadata": {},
   "outputs": [],
   "source": [
    "y_pred_AdaBoost = AdaBoost_regr.predict(X_test).reshape(-1, 1)"
   ]
  },
  {
   "cell_type": "code",
   "execution_count": 51,
   "metadata": {},
   "outputs": [],
   "source": [
    "from sklearn import metrics\n",
    "R_Square_AdaBoost = AdaBoost_regr.score(X_train,y_train)\n",
    "Mean_Absolute_Error_AdaBoost = metrics.mean_absolute_error(y_test, y_pred_AdaBoost)\n",
    "Mean_Squared_Error_AdaBoost = metrics.mean_squared_error(y_test, y_pred_AdaBoost)\n",
    "Root_Mean_Squared_Error_AdaBoost = np.sqrt(metrics.mean_squared_error(y_test, y_pred_AdaBoost))"
   ]
  },
  {
   "cell_type": "code",
   "execution_count": 52,
   "metadata": {},
   "outputs": [
    {
     "data": {
      "text/plain": [
       "[[0.967579313940193,\n",
       "  0.13569391522584565,\n",
       "  0.03447055173238655,\n",
       "  0.18566246721506893],\n",
       " [0.9772160665656079,\n",
       "  0.1330509578693135,\n",
       "  0.03238599899081373,\n",
       "  0.17996110410534197],\n",
       " [0.9669329982060068,\n",
       "  0.14032687123158696,\n",
       "  0.0352337379882415,\n",
       "  0.18770652089962536],\n",
       " [0.9611646032116848,\n",
       "  0.15421637120629245,\n",
       "  0.04146185761389949,\n",
       "  0.20362184954935336]]"
      ]
     },
     "execution_count": 52,
     "metadata": {},
     "output_type": "execute_result"
    }
   ],
   "source": [
    "list_estimate = [R_Square_AdaBoost,Mean_Absolute_Error_AdaBoost,Mean_Squared_Error_AdaBoost,Root_Mean_Squared_Error_AdaBoost]\n",
    "list_estimate_temp.append(list_estimate)\n",
    "list_estimate_temp"
   ]
  },
  {
   "cell_type": "markdown",
   "metadata": {},
   "source": [
    "### Inverse y"
   ]
  },
  {
   "cell_type": "code",
   "execution_count": 53,
   "metadata": {},
   "outputs": [],
   "source": [
    "from sklearn import preprocessing\n",
    "y_pred_inverse_AdaBoost = sc_y.inverse_transform(y_pred_AdaBoost)"
   ]
  },
  {
   "cell_type": "code",
   "execution_count": 54,
   "metadata": {},
   "outputs": [],
   "source": [
    "y_pred_inverse_AdaBoost = y_pred_inverse_AdaBoost.reshape(-1,)"
   ]
  },
  {
   "cell_type": "code",
   "execution_count": 55,
   "metadata": {},
   "outputs": [],
   "source": [
    "y_test_inverse = sc_y.inverse_transform(y_test).reshape(-1,)"
   ]
  },
  {
   "cell_type": "code",
   "execution_count": 56,
   "metadata": {
    "scrolled": true
   },
   "outputs": [
    {
     "data": {
      "text/html": [
       "<div>\n",
       "<style scoped>\n",
       "    .dataframe tbody tr th:only-of-type {\n",
       "        vertical-align: middle;\n",
       "    }\n",
       "\n",
       "    .dataframe tbody tr th {\n",
       "        vertical-align: top;\n",
       "    }\n",
       "\n",
       "    .dataframe thead th {\n",
       "        text-align: right;\n",
       "    }\n",
       "</style>\n",
       "<table border=\"1\" class=\"dataframe\">\n",
       "  <thead>\n",
       "    <tr style=\"text-align: right;\">\n",
       "      <th></th>\n",
       "      <th>y_test_inverse</th>\n",
       "      <th>y_pred_inverse_SVR</th>\n",
       "      <th>y_pred_inverse_GBR</th>\n",
       "      <th>y_pred_inverse_MLP</th>\n",
       "      <th>y_pred_inverse_AdaBoost</th>\n",
       "    </tr>\n",
       "  </thead>\n",
       "  <tbody>\n",
       "    <tr>\n",
       "      <th>0</th>\n",
       "      <td>51310.82</td>\n",
       "      <td>50407.318604</td>\n",
       "      <td>50409.554215</td>\n",
       "      <td>50338.292123</td>\n",
       "      <td>49705.079214</td>\n",
       "    </tr>\n",
       "    <tr>\n",
       "      <th>1</th>\n",
       "      <td>34174.08</td>\n",
       "      <td>34102.961401</td>\n",
       "      <td>34212.989837</td>\n",
       "      <td>34318.242682</td>\n",
       "      <td>33734.118777</td>\n",
       "    </tr>\n",
       "    <tr>\n",
       "      <th>2</th>\n",
       "      <td>35832.98</td>\n",
       "      <td>35042.150278</td>\n",
       "      <td>35087.863891</td>\n",
       "      <td>34690.208075</td>\n",
       "      <td>35839.713596</td>\n",
       "    </tr>\n",
       "    <tr>\n",
       "      <th>3</th>\n",
       "      <td>51160.35</td>\n",
       "      <td>51032.409994</td>\n",
       "      <td>50437.389650</td>\n",
       "      <td>51218.543635</td>\n",
       "      <td>49705.079214</td>\n",
       "    </tr>\n",
       "    <tr>\n",
       "      <th>4</th>\n",
       "      <td>50075.00</td>\n",
       "      <td>47720.017594</td>\n",
       "      <td>48957.572806</td>\n",
       "      <td>46681.777562</td>\n",
       "      <td>48598.365375</td>\n",
       "    </tr>\n",
       "    <tr>\n",
       "      <th>...</th>\n",
       "      <td>...</td>\n",
       "      <td>...</td>\n",
       "      <td>...</td>\n",
       "      <td>...</td>\n",
       "      <td>...</td>\n",
       "    </tr>\n",
       "    <tr>\n",
       "      <th>2780</th>\n",
       "      <td>35375.00</td>\n",
       "      <td>35667.513494</td>\n",
       "      <td>35280.235098</td>\n",
       "      <td>35239.593038</td>\n",
       "      <td>36650.021877</td>\n",
       "    </tr>\n",
       "    <tr>\n",
       "      <th>2781</th>\n",
       "      <td>46296.95</td>\n",
       "      <td>46004.967257</td>\n",
       "      <td>46249.490444</td>\n",
       "      <td>46370.643369</td>\n",
       "      <td>45617.956264</td>\n",
       "    </tr>\n",
       "    <tr>\n",
       "      <th>2782</th>\n",
       "      <td>38782.92</td>\n",
       "      <td>39086.329830</td>\n",
       "      <td>38913.485672</td>\n",
       "      <td>38952.591448</td>\n",
       "      <td>37561.451140</td>\n",
       "    </tr>\n",
       "    <tr>\n",
       "      <th>2783</th>\n",
       "      <td>40904.50</td>\n",
       "      <td>38921.762960</td>\n",
       "      <td>38042.365510</td>\n",
       "      <td>38515.397326</td>\n",
       "      <td>37578.463209</td>\n",
       "    </tr>\n",
       "    <tr>\n",
       "      <th>2784</th>\n",
       "      <td>46925.35</td>\n",
       "      <td>46413.429412</td>\n",
       "      <td>46783.296550</td>\n",
       "      <td>46898.149709</td>\n",
       "      <td>47629.537462</td>\n",
       "    </tr>\n",
       "  </tbody>\n",
       "</table>\n",
       "<p>2785 rows × 5 columns</p>\n",
       "</div>"
      ],
      "text/plain": [
       "      y_test_inverse  y_pred_inverse_SVR  y_pred_inverse_GBR  \\\n",
       "0           51310.82        50407.318604        50409.554215   \n",
       "1           34174.08        34102.961401        34212.989837   \n",
       "2           35832.98        35042.150278        35087.863891   \n",
       "3           51160.35        51032.409994        50437.389650   \n",
       "4           50075.00        47720.017594        48957.572806   \n",
       "...              ...                 ...                 ...   \n",
       "2780        35375.00        35667.513494        35280.235098   \n",
       "2781        46296.95        46004.967257        46249.490444   \n",
       "2782        38782.92        39086.329830        38913.485672   \n",
       "2783        40904.50        38921.762960        38042.365510   \n",
       "2784        46925.35        46413.429412        46783.296550   \n",
       "\n",
       "      y_pred_inverse_MLP  y_pred_inverse_AdaBoost  \n",
       "0           50338.292123             49705.079214  \n",
       "1           34318.242682             33734.118777  \n",
       "2           34690.208075             35839.713596  \n",
       "3           51218.543635             49705.079214  \n",
       "4           46681.777562             48598.365375  \n",
       "...                  ...                      ...  \n",
       "2780        35239.593038             36650.021877  \n",
       "2781        46370.643369             45617.956264  \n",
       "2782        38952.591448             37561.451140  \n",
       "2783        38515.397326             37578.463209  \n",
       "2784        46898.149709             47629.537462  \n",
       "\n",
       "[2785 rows x 5 columns]"
      ]
     },
     "execution_count": 56,
     "metadata": {},
     "output_type": "execute_result"
    }
   ],
   "source": [
    "df = pd.DataFrame({'y_test_inverse':y_test_inverse, 'y_pred_inverse_SVR':y_pred_inverse_SVR, 'y_pred_inverse_GBR':y_pred_inverse_GBR, 'y_pred_inverse_MLP':y_pred_inverse_MLP, 'y_pred_inverse_AdaBoost':y_pred_inverse_AdaBoost})\n",
    "df"
   ]
  },
  {
   "cell_type": "markdown",
   "metadata": {},
   "source": [
    "#### Estimate_y"
   ]
  },
  {
   "cell_type": "code",
   "execution_count": 57,
   "metadata": {},
   "outputs": [
    {
     "data": {
      "text/plain": [
       "[[1315.8529774134836, 3241471.613592897, 1800.408735146799],\n",
       " [1290.223653497364, 3045448.6838961546, 1745.1213951746035],\n",
       " [1360.7797447208748, 3313238.5700212093, 1820.2303618007281],\n",
       " [1495.4692027270178, 3898905.8122911807, 1974.5647146374263]]"
      ]
     },
     "execution_count": 57,
     "metadata": {},
     "output_type": "execute_result"
    }
   ],
   "source": [
    "from sklearn import metrics\n",
    "R_Square_AdaBoost_y = AdaBoost_regr.score(X_train,y_train)\n",
    "Mean_Absolute_Error_AdaBoost_y = metrics.mean_absolute_error(y_test_inverse, y_pred_inverse_AdaBoost)\n",
    "Mean_Squared_Error_AdaBoost_y = metrics.mean_squared_error(y_test_inverse, y_pred_inverse_AdaBoost)\n",
    "Root_Mean_Squared_Error_AdaBoost_y = np.sqrt(metrics.mean_squared_error(y_test_inverse, y_pred_inverse_AdaBoost))\n",
    "\n",
    "list_estimate_y = [Mean_Absolute_Error_AdaBoost_y,Mean_Squared_Error_AdaBoost_y,Root_Mean_Squared_Error_AdaBoost_y]\n",
    "list_estimate_temp_y.append(list_estimate_y)\n",
    "list_estimate_temp_y"
   ]
  },
  {
   "cell_type": "code",
   "execution_count": 58,
   "metadata": {},
   "outputs": [
    {
     "data": {
      "image/png": "[encoded data removed]",
      "text/plain": [
       "<Figure size 640x320 with 1 Axes>"
      ]
     },
     "metadata": {
      "needs_background": "light"
     },
     "output_type": "display_data"
    }
   ],
   "source": [
    "x = np.arange(1,101) \n",
    "\n",
    "# importing package\n",
    "import matplotlib.pyplot as pltฃ\n",
    "\n",
    "from matplotlib.pyplot import figure\n",
    "\n",
    "figure(figsize=(8, 4), dpi=80)\n",
    "\n",
    "# plot lines\n",
    "plt.plot(x, y_test_inverse[:100], label = \"y test\")\n",
    "plt.plot(x, y_pred_inverse_AdaBoost[:100], label = \"y pred\")\n",
    "plt.legend()\n",
    "plt.show()\n",
    "\n"
   ]
  },
  {
   "cell_type": "code",
   "execution_count": null,
   "metadata": {},
   "outputs": [],
   "source": []
  },
  {
   "cell_type": "markdown",
   "metadata": {},
   "source": [
    "## 5.  Random Forest Regressor"
   ]
  },
  {
   "cell_type": "code",
   "execution_count": 60,
   "metadata": {},
   "outputs": [
    {
     "name": "stdout",
     "output_type": "stream",
     "text": [
      "Parameters currently in use:\n",
      "\n",
      "{'bootstrap': True,\n",
      " 'ccp_alpha': 0.0,\n",
      " 'criterion': 'squared_error',\n",
      " 'max_depth': None,\n",
      " 'max_features': 'auto',\n",
      " 'max_leaf_nodes': None,\n",
      " 'max_samples': None,\n",
      " 'min_impurity_decrease': 0.0,\n",
      " 'min_samples_leaf': 1,\n",
      " 'min_samples_split': 2,\n",
      " 'min_weight_fraction_leaf': 0.0,\n",
      " 'n_estimators': 100,\n",
      " 'n_jobs': None,\n",
      " 'oob_score': False,\n",
      " 'random_state': 42,\n",
      " 'verbose': 0,\n",
      " 'warm_start': False}\n"
     ]
    }
   ],
   "source": [
    "from sklearn.ensemble import RandomForestRegressor\n",
    "rf = RandomForestRegressor(random_state = 42)\n",
    "from pprint import pprint\n",
    "# Look at parameters used by our current forest\n",
    "print('Parameters currently in use:\\n')\n",
    "pprint(rf.get_params())\n"
   ]
  },
  {
   "cell_type": "code",
   "execution_count": 102,
   "metadata": {},
   "outputs": [
    {
     "name": "stdout",
     "output_type": "stream",
     "text": [
      "{'bootstrap': [True, False],\n",
      " 'max_depth': [10, 20, 30, 40, 50, 60, 70, 80, 90, 100, 110, None],\n",
      " 'max_features': ['auto', 'sqrt'],\n",
      " 'min_samples_leaf': [1, 2, 4],\n",
      " 'min_samples_split': [2, 5, 10],\n",
      " 'n_estimators': [200, 400, 600, 800, 1000, 1200, 1400, 1600, 1800, 2000]}\n"
     ]
    }
   ],
   "source": [
    "from sklearn.model_selection import RandomizedSearchCV\n",
    "# Number of trees in random forest\n",
    "n_estimators = [int(x) for x in np.linspace(start = 200, stop = 2000, num = 10)]\n",
    "# Number of features to consider at every split\n",
    "max_features = ['auto', 'sqrt']\n",
    "# Maximum number of levels in tree\n",
    "max_depth = [int(x) for x in np.linspace(10, 110, num = 11)]\n",
    "max_depth.append(None)\n",
    "# Minimum number of samples required to split a node\n",
    "min_samples_split = [2, 5, 10]\n",
    "# Minimum number of samples required at each leaf node\n",
    "min_samples_leaf = [1, 2, 4]\n",
    "# Method of selecting samples for training each tree\n",
    "bootstrap = [True, False]\n",
    "# Create the random grid\n",
    "random_grid = {'n_estimators': n_estimators,\n",
    "               'max_features': max_features,\n",
    "               'max_depth': max_depth,\n",
    "               'min_samples_split': min_samples_split,\n",
    "               'min_samples_leaf': min_samples_leaf,\n",
    "               'bootstrap': bootstrap}\n",
    "pprint(random_grid)"
   ]
  },
  {
   "cell_type": "code",
   "execution_count": 64,
   "metadata": {},
   "outputs": [
    {
     "ename": "NameError",
     "evalue": "name 'RandomizedSearchCV' is not defined",
     "output_type": "error",
     "traceback": [
      "\u001b[1;31m---------------------------------------------------------------------------\u001b[0m",
      "\u001b[1;31mNameError\u001b[0m                                 Traceback (most recent call last)",
      "\u001b[1;32m<ipython-input-64-e6bdfcf27f56>\u001b[0m in \u001b[0;36m<module>\u001b[1;34m\u001b[0m\n\u001b[0;32m      4\u001b[0m \u001b[1;31m# Random search of parameters, using 3 fold cross validation,\u001b[0m\u001b[1;33m\u001b[0m\u001b[1;33m\u001b[0m\u001b[1;33m\u001b[0m\u001b[0m\n\u001b[0;32m      5\u001b[0m \u001b[1;31m# search across 100 different combinations, and use all available cores\u001b[0m\u001b[1;33m\u001b[0m\u001b[1;33m\u001b[0m\u001b[1;33m\u001b[0m\u001b[0m\n\u001b[1;32m----> 6\u001b[1;33m \u001b[0mrf_random\u001b[0m \u001b[1;33m=\u001b[0m \u001b[0mRandomizedSearchCV\u001b[0m\u001b[1;33m(\u001b[0m\u001b[0mestimator\u001b[0m \u001b[1;33m=\u001b[0m \u001b[0mrf\u001b[0m\u001b[1;33m,\u001b[0m \u001b[0mparam_distributions\u001b[0m \u001b[1;33m=\u001b[0m \u001b[0mrandom_grid\u001b[0m\u001b[1;33m,\u001b[0m \u001b[0mn_iter\u001b[0m \u001b[1;33m=\u001b[0m \u001b[1;36m100\u001b[0m\u001b[1;33m,\u001b[0m \u001b[0mcv\u001b[0m \u001b[1;33m=\u001b[0m \u001b[1;36m3\u001b[0m\u001b[1;33m,\u001b[0m \u001b[0mverbose\u001b[0m\u001b[1;33m=\u001b[0m\u001b[1;36m2\u001b[0m\u001b[1;33m,\u001b[0m \u001b[0mrandom_state\u001b[0m\u001b[1;33m=\u001b[0m\u001b[1;36m42\u001b[0m\u001b[1;33m,\u001b[0m \u001b[0mn_jobs\u001b[0m \u001b[1;33m=\u001b[0m \u001b[1;33m-\u001b[0m\u001b[1;36m1\u001b[0m\u001b[1;33m)\u001b[0m\u001b[1;33m\u001b[0m\u001b[1;33m\u001b[0m\u001b[0m\n\u001b[0m\u001b[0;32m      7\u001b[0m \u001b[1;31m# Fit the random search model\u001b[0m\u001b[1;33m\u001b[0m\u001b[1;33m\u001b[0m\u001b[1;33m\u001b[0m\u001b[0m\n\u001b[0;32m      8\u001b[0m \u001b[0mrf_random\u001b[0m\u001b[1;33m.\u001b[0m\u001b[0mfit\u001b[0m\u001b[1;33m(\u001b[0m\u001b[0mX_train\u001b[0m\u001b[1;33m,\u001b[0m \u001b[0my_train\u001b[0m\u001b[1;33m)\u001b[0m\u001b[1;33m\u001b[0m\u001b[1;33m\u001b[0m\u001b[0m\n",
      "\u001b[1;31mNameError\u001b[0m: name 'RandomizedSearchCV' is not defined"
     ]
    }
   ],
   "source": [
    "# Use the random grid to search for best hyperparameters\n",
    "# First create the base model to tune\n",
    "rf = RandomForestRegressor()\n",
    "# Random search of parameters, using 3 fold cross validation, \n",
    "# search across 100 different combinations, and use all available cores\n",
    "rf_random = RandomizedSearchCV(estimator = rf, param_distributions = random_grid, n_iter = 100, cv = 3, verbose=2, random_state=42, n_jobs = -1)\n",
    "# Fit the random search model\n",
    "rf_random.fit(X_train, y_train)"
   ]
  },
  {
   "cell_type": "code",
   "execution_count": 104,
   "metadata": {},
   "outputs": [
    {
     "data": {
      "text/plain": [
       "{'n_estimators': 1200,\n",
       " 'min_samples_split': 2,\n",
       " 'min_samples_leaf': 2,\n",
       " 'max_features': 'sqrt',\n",
       " 'max_depth': 20,\n",
       " 'bootstrap': True}"
      ]
     },
     "execution_count": 104,
     "metadata": {},
     "output_type": "execute_result"
    }
   ],
   "source": [
    "rf_random.best_params_"
   ]
  },
  {
   "cell_type": "markdown",
   "metadata": {},
   "source": [
    "### Implemented model from gridsearch parameters"
   ]
  },
  {
   "cell_type": "code",
   "execution_count": 61,
   "metadata": {},
   "outputs": [],
   "source": [
    "regression = RandomForestRegressor(n_estimators = 1200\n",
    "                                  ,min_samples_split=2\n",
    "                                  ,min_samples_leaf=2\n",
    "                                  ,max_features='sqrt'\n",
    "                                  ,max_depth = 20\n",
    "                                  ,bootstrap=True)"
   ]
  },
  {
   "cell_type": "code",
   "execution_count": 62,
   "metadata": {},
   "outputs": [
    {
     "name": "stderr",
     "output_type": "stream",
     "text": [
      "C:\\Users\\Gunn\\anaconda3\\lib\\site-packages\\ipykernel_launcher.py:1: DataConversionWarning: A column-vector y was passed when a 1d array was expected. Please change the shape of y to (n_samples,), for example using ravel().\n",
      "  \"\"\"Entry point for launching an IPython kernel.\n"
     ]
    },
    {
     "data": {
      "text/plain": [
       "RandomForestRegressor(max_depth=20, max_features='sqrt', min_samples_leaf=2,\n",
       "                      n_estimators=1200)"
      ]
     },
     "execution_count": 62,
     "metadata": {},
     "output_type": "execute_result"
    }
   ],
   "source": [
    "regression.fit(X_train, y_train)"
   ]
  },
  {
   "cell_type": "code",
   "execution_count": 63,
   "metadata": {},
   "outputs": [
    {
     "name": "stdout",
     "output_type": "stream",
     "text": [
      "R_Square: 0.9926444097980947\n",
      "MSE: 0.007366826458356945\n"
     ]
    }
   ],
   "source": [
    "print('R_Square:', format(regression.score(X_train,y_train)))\n",
    "\n",
    "#Back-testing\n",
    "from sklearn.metrics import mean_squared_error\n",
    "\n",
    "print('MSE:', format(mean_squared_error(y_train, regression.predict(X_train))))"
   ]
  },
  {
   "cell_type": "markdown",
   "metadata": {},
   "source": [
    "### Test with Data test"
   ]
  },
  {
   "cell_type": "code",
   "execution_count": 64,
   "metadata": {},
   "outputs": [],
   "source": [
    "y_pred_rf = regression.predict(X_test).reshape(-1, 1)"
   ]
  },
  {
   "cell_type": "code",
   "execution_count": 65,
   "metadata": {},
   "outputs": [],
   "source": [
    "from sklearn import metrics\n",
    "R_Square_rf = regression.score(X_train,y_train)\n",
    "Mean_Absolute_Error_rf = metrics.mean_absolute_error(y_test, y_pred_rf)\n",
    "Mean_Squared_Error_rf = metrics.mean_squared_error(y_test, y_pred_rf)\n",
    "Root_Mean_Squared_Error_rf = np.sqrt(metrics.mean_squared_error(y_test, y_pred_rf))"
   ]
  },
  {
   "cell_type": "code",
   "execution_count": 66,
   "metadata": {},
   "outputs": [
    {
     "data": {
      "text/plain": [
       "[[0.967579313940193,\n",
       "  0.13569391522584565,\n",
       "  0.03447055173238655,\n",
       "  0.18566246721506893],\n",
       " [0.9772160665656079,\n",
       "  0.1330509578693135,\n",
       "  0.03238599899081373,\n",
       "  0.17996110410534197],\n",
       " [0.9669329982060068,\n",
       "  0.14032687123158696,\n",
       "  0.0352337379882415,\n",
       "  0.18770652089962536],\n",
       " [0.9611646032116848,\n",
       "  0.15421637120629245,\n",
       "  0.04146185761389949,\n",
       "  0.20362184954935336],\n",
       " [0.9926444097980947,\n",
       "  0.12911686722397753,\n",
       "  0.030719347435165387,\n",
       "  0.1752693568059328]]"
      ]
     },
     "execution_count": 66,
     "metadata": {},
     "output_type": "execute_result"
    }
   ],
   "source": [
    "list_estimate = [R_Square_rf,Mean_Absolute_Error_rf,Mean_Squared_Error_rf,Root_Mean_Squared_Error_rf]\n",
    "list_estimate_temp.append(list_estimate)\n",
    "list_estimate_temp"
   ]
  },
  {
   "cell_type": "markdown",
   "metadata": {},
   "source": [
    "### Inverse y"
   ]
  },
  {
   "cell_type": "code",
   "execution_count": 67,
   "metadata": {},
   "outputs": [],
   "source": [
    "from sklearn import preprocessing\n",
    "y_pred_inverse_rf = sc_y.inverse_transform(y_pred_rf)"
   ]
  },
  {
   "cell_type": "code",
   "execution_count": 68,
   "metadata": {},
   "outputs": [],
   "source": [
    "y_pred_inverse_rf = y_pred_inverse_rf.reshape(-1,)"
   ]
  },
  {
   "cell_type": "code",
   "execution_count": 69,
   "metadata": {},
   "outputs": [],
   "source": [
    "y_test_inverse = sc_y.inverse_transform(y_test).reshape(-1,)"
   ]
  },
  {
   "cell_type": "code",
   "execution_count": 70,
   "metadata": {},
   "outputs": [
    {
     "data": {
      "text/html": [
       "<div>\n",
       "<style scoped>\n",
       "    .dataframe tbody tr th:only-of-type {\n",
       "        vertical-align: middle;\n",
       "    }\n",
       "\n",
       "    .dataframe tbody tr th {\n",
       "        vertical-align: top;\n",
       "    }\n",
       "\n",
       "    .dataframe thead th {\n",
       "        text-align: right;\n",
       "    }\n",
       "</style>\n",
       "<table border=\"1\" class=\"dataframe\">\n",
       "  <thead>\n",
       "    <tr style=\"text-align: right;\">\n",
       "      <th></th>\n",
       "      <th>y_test_inverse</th>\n",
       "      <th>y_pred_inverse_SVR</th>\n",
       "      <th>y_pred_inverse_GBR</th>\n",
       "      <th>y_pred_inverse_MLP</th>\n",
       "      <th>y_pred_inverse_AdaBoost</th>\n",
       "      <th>y_pred_inverse_rf</th>\n",
       "    </tr>\n",
       "  </thead>\n",
       "  <tbody>\n",
       "    <tr>\n",
       "      <th>0</th>\n",
       "      <td>51310.82</td>\n",
       "      <td>50407.318604</td>\n",
       "      <td>50409.554215</td>\n",
       "      <td>50338.292123</td>\n",
       "      <td>49705.079214</td>\n",
       "      <td>50069.774377</td>\n",
       "    </tr>\n",
       "    <tr>\n",
       "      <th>1</th>\n",
       "      <td>34174.08</td>\n",
       "      <td>34102.961401</td>\n",
       "      <td>34212.989837</td>\n",
       "      <td>34318.242682</td>\n",
       "      <td>33734.118777</td>\n",
       "      <td>34015.275273</td>\n",
       "    </tr>\n",
       "    <tr>\n",
       "      <th>2</th>\n",
       "      <td>35832.98</td>\n",
       "      <td>35042.150278</td>\n",
       "      <td>35087.863891</td>\n",
       "      <td>34690.208075</td>\n",
       "      <td>35839.713596</td>\n",
       "      <td>34774.564100</td>\n",
       "    </tr>\n",
       "    <tr>\n",
       "      <th>3</th>\n",
       "      <td>51160.35</td>\n",
       "      <td>51032.409994</td>\n",
       "      <td>50437.389650</td>\n",
       "      <td>51218.543635</td>\n",
       "      <td>49705.079214</td>\n",
       "      <td>49920.476583</td>\n",
       "    </tr>\n",
       "    <tr>\n",
       "      <th>4</th>\n",
       "      <td>50075.00</td>\n",
       "      <td>47720.017594</td>\n",
       "      <td>48957.572806</td>\n",
       "      <td>46681.777562</td>\n",
       "      <td>48598.365375</td>\n",
       "      <td>49009.372221</td>\n",
       "    </tr>\n",
       "    <tr>\n",
       "      <th>...</th>\n",
       "      <td>...</td>\n",
       "      <td>...</td>\n",
       "      <td>...</td>\n",
       "      <td>...</td>\n",
       "      <td>...</td>\n",
       "      <td>...</td>\n",
       "    </tr>\n",
       "    <tr>\n",
       "      <th>2780</th>\n",
       "      <td>35375.00</td>\n",
       "      <td>35667.513494</td>\n",
       "      <td>35280.235098</td>\n",
       "      <td>35239.593038</td>\n",
       "      <td>36650.021877</td>\n",
       "      <td>35204.939342</td>\n",
       "    </tr>\n",
       "    <tr>\n",
       "      <th>2781</th>\n",
       "      <td>46296.95</td>\n",
       "      <td>46004.967257</td>\n",
       "      <td>46249.490444</td>\n",
       "      <td>46370.643369</td>\n",
       "      <td>45617.956264</td>\n",
       "      <td>46354.707948</td>\n",
       "    </tr>\n",
       "    <tr>\n",
       "      <th>2782</th>\n",
       "      <td>38782.92</td>\n",
       "      <td>39086.329830</td>\n",
       "      <td>38913.485672</td>\n",
       "      <td>38952.591448</td>\n",
       "      <td>37561.451140</td>\n",
       "      <td>38739.173308</td>\n",
       "    </tr>\n",
       "    <tr>\n",
       "      <th>2783</th>\n",
       "      <td>40904.50</td>\n",
       "      <td>38921.762960</td>\n",
       "      <td>38042.365510</td>\n",
       "      <td>38515.397326</td>\n",
       "      <td>37578.463209</td>\n",
       "      <td>37876.017496</td>\n",
       "    </tr>\n",
       "    <tr>\n",
       "      <th>2784</th>\n",
       "      <td>46925.35</td>\n",
       "      <td>46413.429412</td>\n",
       "      <td>46783.296550</td>\n",
       "      <td>46898.149709</td>\n",
       "      <td>47629.537462</td>\n",
       "      <td>46200.244430</td>\n",
       "    </tr>\n",
       "  </tbody>\n",
       "</table>\n",
       "<p>2785 rows × 6 columns</p>\n",
       "</div>"
      ],
      "text/plain": [
       "      y_test_inverse  y_pred_inverse_SVR  y_pred_inverse_GBR  \\\n",
       "0           51310.82        50407.318604        50409.554215   \n",
       "1           34174.08        34102.961401        34212.989837   \n",
       "2           35832.98        35042.150278        35087.863891   \n",
       "3           51160.35        51032.409994        50437.389650   \n",
       "4           50075.00        47720.017594        48957.572806   \n",
       "...              ...                 ...                 ...   \n",
       "2780        35375.00        35667.513494        35280.235098   \n",
       "2781        46296.95        46004.967257        46249.490444   \n",
       "2782        38782.92        39086.329830        38913.485672   \n",
       "2783        40904.50        38921.762960        38042.365510   \n",
       "2784        46925.35        46413.429412        46783.296550   \n",
       "\n",
       "      y_pred_inverse_MLP  y_pred_inverse_AdaBoost  y_pred_inverse_rf  \n",
       "0           50338.292123             49705.079214       50069.774377  \n",
       "1           34318.242682             33734.118777       34015.275273  \n",
       "2           34690.208075             35839.713596       34774.564100  \n",
       "3           51218.543635             49705.079214       49920.476583  \n",
       "4           46681.777562             48598.365375       49009.372221  \n",
       "...                  ...                      ...                ...  \n",
       "2780        35239.593038             36650.021877       35204.939342  \n",
       "2781        46370.643369             45617.956264       46354.707948  \n",
       "2782        38952.591448             37561.451140       38739.173308  \n",
       "2783        38515.397326             37578.463209       37876.017496  \n",
       "2784        46898.149709             47629.537462       46200.244430  \n",
       "\n",
       "[2785 rows x 6 columns]"
      ]
     },
     "execution_count": 70,
     "metadata": {},
     "output_type": "execute_result"
    }
   ],
   "source": [
    "df = pd.DataFrame({'y_test_inverse':y_test_inverse, 'y_pred_inverse_SVR':y_pred_inverse_SVR, 'y_pred_inverse_GBR':y_pred_inverse_GBR, 'y_pred_inverse_MLP':y_pred_inverse_MLP, 'y_pred_inverse_AdaBoost':y_pred_inverse_AdaBoost, 'y_pred_inverse_rf':y_pred_inverse_rf})\n",
    "df"
   ]
  },
  {
   "cell_type": "markdown",
   "metadata": {},
   "source": [
    "#### Estimate_y"
   ]
  },
  {
   "cell_type": "code",
   "execution_count": 71,
   "metadata": {},
   "outputs": [
    {
     "data": {
      "text/plain": [
       "[[1315.8529774134836, 3241471.613592897, 1800.408735146799],\n",
       " [1290.223653497364, 3045448.6838961546, 1745.1213951746035],\n",
       " [1360.7797447208748, 3313238.5700212093, 1820.2303618007281],\n",
       " [1495.4692027270178, 3898905.8122911807, 1974.5647146374263],\n",
       " [1252.0739333683225, 2888723.495702872, 1699.624516092561]]"
      ]
     },
     "execution_count": 71,
     "metadata": {},
     "output_type": "execute_result"
    }
   ],
   "source": [
    "from sklearn import metrics\n",
    "R_Square_rf_y = regression.score(X_train,y_train)\n",
    "Mean_Absolute_Error_rf_y = metrics.mean_absolute_error(y_test_inverse, y_pred_inverse_rf)\n",
    "Mean_Squared_Error_rf_y = metrics.mean_squared_error(y_test_inverse, y_pred_inverse_rf)\n",
    "Root_Mean_Squared_Error_rf_y = np.sqrt(metrics.mean_squared_error(y_test_inverse, y_pred_inverse_rf))\n",
    "\n",
    "list_estimate_y = [Mean_Absolute_Error_rf_y,Mean_Squared_Error_rf_y,Root_Mean_Squared_Error_rf_y]\n",
    "list_estimate_temp_y.append(list_estimate_y)\n",
    "list_estimate_temp_y"
   ]
  },
  {
   "cell_type": "code",
   "execution_count": 72,
   "metadata": {},
   "outputs": [
    {
     "data": {
      "image/png": "[encoded data removed]",
      "text/plain": [
       "<Figure size 640x320 with 1 Axes>"
      ]
     },
     "metadata": {
      "needs_background": "light"
     },
     "output_type": "display_data"
    }
   ],
   "source": [
    "x = np.arange(1,101) \n",
    "\n",
    "# importing package\n",
    "import matplotlib.pyplot as plt\n",
    "\n",
    "from matplotlib.pyplot import figure\n",
    "\n",
    "figure(figsize=(8, 4), dpi=80)\n",
    "\n",
    "# plot lines\n",
    "plt.plot(x, y_test_inverse[:100], label = \"line 1\")\n",
    "plt.plot(x, y_pred_inverse_rf[:100], label = \"line 2\")\n",
    "plt.legend()\n",
    "plt.show()\n",
    "\n"
   ]
  },
  {
   "cell_type": "code",
   "execution_count": null,
   "metadata": {},
   "outputs": [],
   "source": []
  },
  {
   "cell_type": "markdown",
   "metadata": {},
   "source": [
    "# 6. Linear Regression"
   ]
  },
  {
   "cell_type": "code",
   "execution_count": 73,
   "metadata": {},
   "outputs": [
    {
     "data": {
      "text/plain": [
       "LinearRegression()"
      ]
     },
     "execution_count": 73,
     "metadata": {},
     "output_type": "execute_result"
    }
   ],
   "source": [
    "from sklearn.linear_model import LinearRegression\n",
    "Linear_regressor = LinearRegression()\n",
    "Linear_regressor.fit(X_train, y_train)"
   ]
  },
  {
   "cell_type": "code",
   "execution_count": 74,
   "metadata": {},
   "outputs": [
    {
     "name": "stdout",
     "output_type": "stream",
     "text": [
      "[-0.00028346]\n"
     ]
    }
   ],
   "source": [
    "print(Linear_regressor.intercept_)"
   ]
  },
  {
   "cell_type": "code",
   "execution_count": 75,
   "metadata": {},
   "outputs": [
    {
     "name": "stdout",
     "output_type": "stream",
     "text": [
      "[[ 6.88269110e-01  3.49150374e-01 -9.84276388e-02  2.92249909e-02\n",
      "   1.09842759e+01  1.66815055e+01  2.01379322e+01 -8.15306784e-02\n",
      "   2.50206774e-03  5.41141730e-03]]\n"
     ]
    }
   ],
   "source": [
    "print(Linear_regressor.coef_)"
   ]
  },
  {
   "cell_type": "code",
   "execution_count": 76,
   "metadata": {},
   "outputs": [
    {
     "name": "stdout",
     "output_type": "stream",
     "text": [
      "R_Square: 0.9643056616198848\n",
      "MSE: 0.03574886435680775\n"
     ]
    }
   ],
   "source": [
    "#Back-testing\n",
    "print('R_Square:', format(Linear_regressor.score(X_train,y_train)))\n",
    "from sklearn.metrics import mean_squared_error\n",
    "\n",
    "print('MSE:', format(mean_squared_error(y_train, Linear_regressor.predict(X_train)))) "
   ]
  },
  {
   "cell_type": "code",
   "execution_count": 77,
   "metadata": {},
   "outputs": [],
   "source": [
    "y_pred_linear = Linear_regressor.predict(X_test)"
   ]
  },
  {
   "cell_type": "code",
   "execution_count": 78,
   "metadata": {},
   "outputs": [],
   "source": [
    "from sklearn import metrics\n",
    "R_Square_linear = Linear_regressor.score(X_train,y_train)\n",
    "Mean_Absolute_Error_linear = metrics.mean_absolute_error(y_test, y_pred_linear)\n",
    "Mean_Squared_Error_linear = metrics.mean_squared_error(y_test, y_pred_linear)\n",
    "Root_Mean_Squared_Error_linear = np.sqrt(metrics.mean_squared_error(y_test, y_pred_linear))"
   ]
  },
  {
   "cell_type": "code",
   "execution_count": 79,
   "metadata": {},
   "outputs": [
    {
     "data": {
      "text/plain": [
       "[[0.967579313940193,\n",
       "  0.13569391522584565,\n",
       "  0.03447055173238655,\n",
       "  0.18566246721506893],\n",
       " [0.9772160665656079,\n",
       "  0.1330509578693135,\n",
       "  0.03238599899081373,\n",
       "  0.17996110410534197],\n",
       " [0.9669329982060068,\n",
       "  0.14032687123158696,\n",
       "  0.0352337379882415,\n",
       "  0.18770652089962536],\n",
       " [0.9611646032116848,\n",
       "  0.15421637120629245,\n",
       "  0.04146185761389949,\n",
       "  0.20362184954935336],\n",
       " [0.9926444097980947,\n",
       "  0.12911686722397753,\n",
       "  0.030719347435165387,\n",
       "  0.1752693568059328],\n",
       " [0.9643056616198848,\n",
       "  0.143981884901366,\n",
       "  0.03732410469569133,\n",
       "  0.19319447377109764]]"
      ]
     },
     "execution_count": 79,
     "metadata": {},
     "output_type": "execute_result"
    }
   ],
   "source": [
    "list_estimate = [R_Square_linear,Mean_Absolute_Error_linear,Mean_Squared_Error_linear,Root_Mean_Squared_Error_linear]\n",
    "list_estimate_temp.append(list_estimate)\n",
    "list_estimate_temp"
   ]
  },
  {
   "cell_type": "code",
   "execution_count": 80,
   "metadata": {},
   "outputs": [],
   "source": [
    "from sklearn import preprocessing\n",
    "y_pred_inverse_linear = sc_y.inverse_transform(y_pred_linear)"
   ]
  },
  {
   "cell_type": "code",
   "execution_count": 81,
   "metadata": {},
   "outputs": [],
   "source": [
    "y_pred_inverse_linear = y_pred_inverse_linear.reshape(-1,)"
   ]
  },
  {
   "cell_type": "code",
   "execution_count": 82,
   "metadata": {},
   "outputs": [
    {
     "data": {
      "text/html": [
       "<div>\n",
       "<style scoped>\n",
       "    .dataframe tbody tr th:only-of-type {\n",
       "        vertical-align: middle;\n",
       "    }\n",
       "\n",
       "    .dataframe tbody tr th {\n",
       "        vertical-align: top;\n",
       "    }\n",
       "\n",
       "    .dataframe thead th {\n",
       "        text-align: right;\n",
       "    }\n",
       "</style>\n",
       "<table border=\"1\" class=\"dataframe\">\n",
       "  <thead>\n",
       "    <tr style=\"text-align: right;\">\n",
       "      <th></th>\n",
       "      <th>y_test_inverse</th>\n",
       "      <th>y_pred_inverse_SVR</th>\n",
       "      <th>y_pred_inverse_GBR</th>\n",
       "      <th>y_pred_inverse_MLP</th>\n",
       "      <th>y_pred_inverse_AdaBoost</th>\n",
       "      <th>y_pred_inverse_rf</th>\n",
       "      <th>y_pred_inverse_linear</th>\n",
       "    </tr>\n",
       "  </thead>\n",
       "  <tbody>\n",
       "    <tr>\n",
       "      <th>0</th>\n",
       "      <td>51310.82</td>\n",
       "      <td>50407.318604</td>\n",
       "      <td>50409.554215</td>\n",
       "      <td>50338.292123</td>\n",
       "      <td>49705.079214</td>\n",
       "      <td>50069.774377</td>\n",
       "      <td>50129.150027</td>\n",
       "    </tr>\n",
       "    <tr>\n",
       "      <th>1</th>\n",
       "      <td>34174.08</td>\n",
       "      <td>34102.961401</td>\n",
       "      <td>34212.989837</td>\n",
       "      <td>34318.242682</td>\n",
       "      <td>33734.118777</td>\n",
       "      <td>34015.275273</td>\n",
       "      <td>34557.322908</td>\n",
       "    </tr>\n",
       "    <tr>\n",
       "      <th>2</th>\n",
       "      <td>35832.98</td>\n",
       "      <td>35042.150278</td>\n",
       "      <td>35087.863891</td>\n",
       "      <td>34690.208075</td>\n",
       "      <td>35839.713596</td>\n",
       "      <td>34774.564100</td>\n",
       "      <td>35555.261311</td>\n",
       "    </tr>\n",
       "    <tr>\n",
       "      <th>3</th>\n",
       "      <td>51160.35</td>\n",
       "      <td>51032.409994</td>\n",
       "      <td>50437.389650</td>\n",
       "      <td>51218.543635</td>\n",
       "      <td>49705.079214</td>\n",
       "      <td>49920.476583</td>\n",
       "      <td>50228.311338</td>\n",
       "    </tr>\n",
       "    <tr>\n",
       "      <th>4</th>\n",
       "      <td>50075.00</td>\n",
       "      <td>47720.017594</td>\n",
       "      <td>48957.572806</td>\n",
       "      <td>46681.777562</td>\n",
       "      <td>48598.365375</td>\n",
       "      <td>49009.372221</td>\n",
       "      <td>47423.644181</td>\n",
       "    </tr>\n",
       "    <tr>\n",
       "      <th>...</th>\n",
       "      <td>...</td>\n",
       "      <td>...</td>\n",
       "      <td>...</td>\n",
       "      <td>...</td>\n",
       "      <td>...</td>\n",
       "      <td>...</td>\n",
       "      <td>...</td>\n",
       "    </tr>\n",
       "    <tr>\n",
       "      <th>2780</th>\n",
       "      <td>35375.00</td>\n",
       "      <td>35667.513494</td>\n",
       "      <td>35280.235098</td>\n",
       "      <td>35239.593038</td>\n",
       "      <td>36650.021877</td>\n",
       "      <td>35204.939342</td>\n",
       "      <td>35889.590243</td>\n",
       "    </tr>\n",
       "    <tr>\n",
       "      <th>2781</th>\n",
       "      <td>46296.95</td>\n",
       "      <td>46004.967257</td>\n",
       "      <td>46249.490444</td>\n",
       "      <td>46370.643369</td>\n",
       "      <td>45617.956264</td>\n",
       "      <td>46354.707948</td>\n",
       "      <td>46196.417029</td>\n",
       "    </tr>\n",
       "    <tr>\n",
       "      <th>2782</th>\n",
       "      <td>38782.92</td>\n",
       "      <td>39086.329830</td>\n",
       "      <td>38913.485672</td>\n",
       "      <td>38952.591448</td>\n",
       "      <td>37561.451140</td>\n",
       "      <td>38739.173308</td>\n",
       "      <td>39307.366450</td>\n",
       "    </tr>\n",
       "    <tr>\n",
       "      <th>2783</th>\n",
       "      <td>40904.50</td>\n",
       "      <td>38921.762960</td>\n",
       "      <td>38042.365510</td>\n",
       "      <td>38515.397326</td>\n",
       "      <td>37578.463209</td>\n",
       "      <td>37876.017496</td>\n",
       "      <td>39553.983736</td>\n",
       "    </tr>\n",
       "    <tr>\n",
       "      <th>2784</th>\n",
       "      <td>46925.35</td>\n",
       "      <td>46413.429412</td>\n",
       "      <td>46783.296550</td>\n",
       "      <td>46898.149709</td>\n",
       "      <td>47629.537462</td>\n",
       "      <td>46200.244430</td>\n",
       "      <td>46824.162392</td>\n",
       "    </tr>\n",
       "  </tbody>\n",
       "</table>\n",
       "<p>2785 rows × 7 columns</p>\n",
       "</div>"
      ],
      "text/plain": [
       "      y_test_inverse  y_pred_inverse_SVR  y_pred_inverse_GBR  \\\n",
       "0           51310.82        50407.318604        50409.554215   \n",
       "1           34174.08        34102.961401        34212.989837   \n",
       "2           35832.98        35042.150278        35087.863891   \n",
       "3           51160.35        51032.409994        50437.389650   \n",
       "4           50075.00        47720.017594        48957.572806   \n",
       "...              ...                 ...                 ...   \n",
       "2780        35375.00        35667.513494        35280.235098   \n",
       "2781        46296.95        46004.967257        46249.490444   \n",
       "2782        38782.92        39086.329830        38913.485672   \n",
       "2783        40904.50        38921.762960        38042.365510   \n",
       "2784        46925.35        46413.429412        46783.296550   \n",
       "\n",
       "      y_pred_inverse_MLP  y_pred_inverse_AdaBoost  y_pred_inverse_rf  \\\n",
       "0           50338.292123             49705.079214       50069.774377   \n",
       "1           34318.242682             33734.118777       34015.275273   \n",
       "2           34690.208075             35839.713596       34774.564100   \n",
       "3           51218.543635             49705.079214       49920.476583   \n",
       "4           46681.777562             48598.365375       49009.372221   \n",
       "...                  ...                      ...                ...   \n",
       "2780        35239.593038             36650.021877       35204.939342   \n",
       "2781        46370.643369             45617.956264       46354.707948   \n",
       "2782        38952.591448             37561.451140       38739.173308   \n",
       "2783        38515.397326             37578.463209       37876.017496   \n",
       "2784        46898.149709             47629.537462       46200.244430   \n",
       "\n",
       "      y_pred_inverse_linear  \n",
       "0              50129.150027  \n",
       "1              34557.322908  \n",
       "2              35555.261311  \n",
       "3              50228.311338  \n",
       "4              47423.644181  \n",
       "...                     ...  \n",
       "2780           35889.590243  \n",
       "2781           46196.417029  \n",
       "2782           39307.366450  \n",
       "2783           39553.983736  \n",
       "2784           46824.162392  \n",
       "\n",
       "[2785 rows x 7 columns]"
      ]
     },
     "execution_count": 82,
     "metadata": {},
     "output_type": "execute_result"
    }
   ],
   "source": [
    "df = pd.DataFrame({'y_test_inverse':y_test_inverse, 'y_pred_inverse_SVR':y_pred_inverse_SVR, 'y_pred_inverse_GBR':y_pred_inverse_GBR, 'y_pred_inverse_MLP':y_pred_inverse_MLP, 'y_pred_inverse_AdaBoost':y_pred_inverse_AdaBoost, 'y_pred_inverse_rf':y_pred_inverse_rf, 'y_pred_inverse_linear':y_pred_inverse_linear})\n",
    "df"
   ]
  },
  {
   "cell_type": "markdown",
   "metadata": {},
   "source": [
    "#### Estimate_y"
   ]
  },
  {
   "cell_type": "code",
   "execution_count": 83,
   "metadata": {},
   "outputs": [
    {
     "data": {
      "text/plain": [
       "[[1315.8529774134836, 3241471.613592897, 1800.408735146799],\n",
       " [1290.223653497364, 3045448.6838961546, 1745.1213951746035],\n",
       " [1360.7797447208748, 3313238.5700212093, 1820.2303618007281],\n",
       " [1495.4692027270178, 3898905.8122911807, 1974.5647146374263],\n",
       " [1252.0739333683225, 2888723.495702872, 1699.624516092561],\n",
       " [1396.2231956070914, 3509808.2216126, 1873.4482169551952]]"
      ]
     },
     "execution_count": 83,
     "metadata": {},
     "output_type": "execute_result"
    }
   ],
   "source": [
    "from sklearn import metrics\n",
    "R_Square_linear_y = Linear_regressor.score(X_train,y_train)\n",
    "Mean_Absolute_Error_linear_y = metrics.mean_absolute_error(y_test_inverse, y_pred_inverse_linear)\n",
    "Mean_Squared_Error_linear_y = metrics.mean_squared_error(y_test_inverse, y_pred_inverse_linear)\n",
    "Root_Mean_Squared_Error_linear_y = np.sqrt(metrics.mean_squared_error(y_test_inverse, y_pred_inverse_linear))\n",
    "\n",
    "list_estimate_y = [Mean_Absolute_Error_linear_y,Mean_Squared_Error_linear_y,Root_Mean_Squared_Error_linear_y]\n",
    "list_estimate_temp_y.append(list_estimate_y)\n",
    "list_estimate_temp_y"
   ]
  },
  {
   "cell_type": "markdown",
   "metadata": {},
   "source": [
    "# 7.  Elastic Net Regression"
   ]
  },
  {
   "cell_type": "code",
   "execution_count": 84,
   "metadata": {},
   "outputs": [],
   "source": [
    "# grid search hyperparameters for the elastic net\n",
    "from numpy import arange\n",
    "from pandas import read_csv\n",
    "from sklearn.model_selection import GridSearchCV\n",
    "from sklearn.model_selection import RepeatedKFold\n",
    "from sklearn.linear_model import ElasticNet"
   ]
  },
  {
   "cell_type": "code",
   "execution_count": 127,
   "metadata": {},
   "outputs": [
    {
     "name": "stdout",
     "output_type": "stream",
     "text": [
      "MAE: -0.142\n",
      "Config: {'alpha': 0.0001, 'l1_ratio': 0.0}\n"
     ]
    },
    {
     "name": "stderr",
     "output_type": "stream",
     "text": [
      "C:\\Users\\Gunn\\anaconda3\\lib\\site-packages\\sklearn\\linear_model\\_coordinate_descent.py:648: ConvergenceWarning: Objective did not converge. You might want to increase the number of iterations, check the scale of the features or consider increasing regularisation. Duality gap: 1.166e+02, tolerance: 6.506e-01 Linear regression models with null weight for the l1 regularization term are more efficiently fitted using one of the solvers implemented in sklearn.linear_model.Ridge/RidgeCV instead.\n",
      "  coef_, l1_reg, l2_reg, X, y, max_iter, tol, rng, random, positive\n"
     ]
    }
   ],
   "source": [
    "\n",
    "# load the dataset\n",
    "\n",
    "Elastic_model = ElasticNet()\n",
    "# define model evaluation method\n",
    "cv = RepeatedKFold(n_splits=10, n_repeats=3, random_state=1)\n",
    "# define grid\n",
    "grid = dict()\n",
    "grid['alpha'] = [1e-5, 1e-4, 1e-3, 1e-2, 1e-1, 0.0, 1.0, 10.0, 100.0]\n",
    "grid['l1_ratio'] = arange(0, 1, 0.01)\n",
    "# define search\n",
    "search = GridSearchCV(Elastic_model, grid, scoring='neg_mean_absolute_error', cv=cv, n_jobs=-1)\n",
    "# perform the search\n",
    "results_elastic = search.fit(X_train,y_train )\n",
    "# summarize\n",
    "print('MAE: %.3f' % results_elastic.best_score_)\n",
    "print('Config: %s' % results_elastic.best_params_)"
   ]
  },
  {
   "cell_type": "code",
   "execution_count": 128,
   "metadata": {},
   "outputs": [
    {
     "name": "stdout",
     "output_type": "stream",
     "text": [
      "MAE: -0.142\n",
      "Config: {'alpha': 0.0001, 'l1_ratio': 0.0}\n"
     ]
    }
   ],
   "source": [
    "print('MAE: %.3f' % results_elastic.best_score_)\n",
    "print('Config: %s' % results_elastic.best_params_)"
   ]
  },
  {
   "cell_type": "code",
   "execution_count": 85,
   "metadata": {},
   "outputs": [
    {
     "name": "stdout",
     "output_type": "stream",
     "text": [
      "R_Square: 0.9642423897665497\n",
      "MSE: 0.03581223286299469\n"
     ]
    },
    {
     "name": "stderr",
     "output_type": "stream",
     "text": [
      "C:\\Users\\Gunn\\anaconda3\\lib\\site-packages\\sklearn\\linear_model\\_coordinate_descent.py:648: ConvergenceWarning: Objective did not converge. You might want to increase the number of iterations, check the scale of the features or consider increasing regularisation. Duality gap: 1.166e+02, tolerance: 6.506e-01 Linear regression models with null weight for the l1 regularization term are more efficiently fitted using one of the solvers implemented in sklearn.linear_model.Ridge/RidgeCV instead.\n",
      "  coef_, l1_reg, l2_reg, X, y, max_iter, tol, rng, random, positive\n"
     ]
    }
   ],
   "source": [
    "#Implemented model from gridsearch parameters\n",
    "Elastic_model = ElasticNet(alpha=0.0001, l1_ratio=0.0)\n",
    "Elastic_model.fit(X_train,y_train)\n",
    "print('R_Square:', format(Elastic_model.score(X_train,y_train)))\n",
    "\n",
    "#Back-testing\n",
    "from sklearn.metrics import mean_squared_error\n",
    "\n",
    "print('MSE:', format(mean_squared_error(y_train, Elastic_model.predict(X_train)))) "
   ]
  },
  {
   "cell_type": "code",
   "execution_count": 86,
   "metadata": {},
   "outputs": [],
   "source": [
    "y_pred_Elastic = Elastic_model.predict(X_test).reshape(-1, 1)"
   ]
  },
  {
   "cell_type": "code",
   "execution_count": 87,
   "metadata": {},
   "outputs": [],
   "source": [
    "from sklearn import metrics\n",
    "R_Square_Elastic = Elastic_model.score(X_train,y_train)\n",
    "Mean_Absolute_Error_Elastic = metrics.mean_absolute_error(y_test, y_pred_Elastic)\n",
    "Mean_Squared_Error_Elastic = metrics.mean_squared_error(y_test, y_pred_Elastic)\n",
    "Root_Mean_Squared_Error_Elastic = np.sqrt(metrics.mean_squared_error(y_test, y_pred_Elastic))"
   ]
  },
  {
   "cell_type": "code",
   "execution_count": 88,
   "metadata": {},
   "outputs": [
    {
     "data": {
      "text/plain": [
       "[[0.967579313940193,\n",
       "  0.13569391522584565,\n",
       "  0.03447055173238655,\n",
       "  0.18566246721506893],\n",
       " [0.9772160665656079,\n",
       "  0.1330509578693135,\n",
       "  0.03238599899081373,\n",
       "  0.17996110410534197],\n",
       " [0.9669329982060068,\n",
       "  0.14032687123158696,\n",
       "  0.0352337379882415,\n",
       "  0.18770652089962536],\n",
       " [0.9611646032116848,\n",
       "  0.15421637120629245,\n",
       "  0.04146185761389949,\n",
       "  0.20362184954935336],\n",
       " [0.9926444097980947,\n",
       "  0.12911686722397753,\n",
       "  0.030719347435165387,\n",
       "  0.1752693568059328],\n",
       " [0.9643056616198848,\n",
       "  0.143981884901366,\n",
       "  0.03732410469569133,\n",
       "  0.19319447377109764],\n",
       " [0.9642423897665497,\n",
       "  0.1442704777116995,\n",
       "  0.03741891365074803,\n",
       "  0.1934396899572268]]"
      ]
     },
     "execution_count": 88,
     "metadata": {},
     "output_type": "execute_result"
    }
   ],
   "source": [
    "list_estimate = [R_Square_Elastic,Mean_Absolute_Error_Elastic,Mean_Squared_Error_Elastic,Root_Mean_Squared_Error_Elastic]\n",
    "list_estimate_temp.append(list_estimate)\n",
    "list_estimate_temp"
   ]
  },
  {
   "cell_type": "code",
   "execution_count": 89,
   "metadata": {},
   "outputs": [],
   "source": [
    "from sklearn import preprocessing\n",
    "y_pred_inverse_Elastic = sc_y.inverse_transform(y_pred_Elastic).reshape(-1,)"
   ]
  },
  {
   "cell_type": "code",
   "execution_count": 90,
   "metadata": {},
   "outputs": [
    {
     "data": {
      "text/html": [
       "<div>\n",
       "<style scoped>\n",
       "    .dataframe tbody tr th:only-of-type {\n",
       "        vertical-align: middle;\n",
       "    }\n",
       "\n",
       "    .dataframe tbody tr th {\n",
       "        vertical-align: top;\n",
       "    }\n",
       "\n",
       "    .dataframe thead th {\n",
       "        text-align: right;\n",
       "    }\n",
       "</style>\n",
       "<table border=\"1\" class=\"dataframe\">\n",
       "  <thead>\n",
       "    <tr style=\"text-align: right;\">\n",
       "      <th></th>\n",
       "      <th>y_test_inverse</th>\n",
       "      <th>y_pred_inverse_SVR</th>\n",
       "      <th>y_pred_inverse_GBR</th>\n",
       "      <th>y_pred_inverse_MLP</th>\n",
       "      <th>y_pred_inverse_AdaBoost</th>\n",
       "      <th>y_pred_inverse_rf</th>\n",
       "      <th>y_pred_inverse_linear</th>\n",
       "      <th>y_pred_inverse_Elastic</th>\n",
       "    </tr>\n",
       "  </thead>\n",
       "  <tbody>\n",
       "    <tr>\n",
       "      <th>0</th>\n",
       "      <td>51310.82</td>\n",
       "      <td>50407.318604</td>\n",
       "      <td>50409.554215</td>\n",
       "      <td>50338.292123</td>\n",
       "      <td>49705.079214</td>\n",
       "      <td>50069.774377</td>\n",
       "      <td>50129.150027</td>\n",
       "      <td>50133.439549</td>\n",
       "    </tr>\n",
       "    <tr>\n",
       "      <th>1</th>\n",
       "      <td>34174.08</td>\n",
       "      <td>34102.961401</td>\n",
       "      <td>34212.989837</td>\n",
       "      <td>34318.242682</td>\n",
       "      <td>33734.118777</td>\n",
       "      <td>34015.275273</td>\n",
       "      <td>34557.322908</td>\n",
       "      <td>34422.957551</td>\n",
       "    </tr>\n",
       "    <tr>\n",
       "      <th>2</th>\n",
       "      <td>35832.98</td>\n",
       "      <td>35042.150278</td>\n",
       "      <td>35087.863891</td>\n",
       "      <td>34690.208075</td>\n",
       "      <td>35839.713596</td>\n",
       "      <td>34774.564100</td>\n",
       "      <td>35555.261311</td>\n",
       "      <td>35527.592724</td>\n",
       "    </tr>\n",
       "    <tr>\n",
       "      <th>3</th>\n",
       "      <td>51160.35</td>\n",
       "      <td>51032.409994</td>\n",
       "      <td>50437.389650</td>\n",
       "      <td>51218.543635</td>\n",
       "      <td>49705.079214</td>\n",
       "      <td>49920.476583</td>\n",
       "      <td>50228.311338</td>\n",
       "      <td>50227.809161</td>\n",
       "    </tr>\n",
       "    <tr>\n",
       "      <th>4</th>\n",
       "      <td>50075.00</td>\n",
       "      <td>47720.017594</td>\n",
       "      <td>48957.572806</td>\n",
       "      <td>46681.777562</td>\n",
       "      <td>48598.365375</td>\n",
       "      <td>49009.372221</td>\n",
       "      <td>47423.644181</td>\n",
       "      <td>47446.625254</td>\n",
       "    </tr>\n",
       "    <tr>\n",
       "      <th>...</th>\n",
       "      <td>...</td>\n",
       "      <td>...</td>\n",
       "      <td>...</td>\n",
       "      <td>...</td>\n",
       "      <td>...</td>\n",
       "      <td>...</td>\n",
       "      <td>...</td>\n",
       "      <td>...</td>\n",
       "    </tr>\n",
       "    <tr>\n",
       "      <th>2780</th>\n",
       "      <td>35375.00</td>\n",
       "      <td>35667.513494</td>\n",
       "      <td>35280.235098</td>\n",
       "      <td>35239.593038</td>\n",
       "      <td>36650.021877</td>\n",
       "      <td>35204.939342</td>\n",
       "      <td>35889.590243</td>\n",
       "      <td>35803.345571</td>\n",
       "    </tr>\n",
       "    <tr>\n",
       "      <th>2781</th>\n",
       "      <td>46296.95</td>\n",
       "      <td>46004.967257</td>\n",
       "      <td>46249.490444</td>\n",
       "      <td>46370.643369</td>\n",
       "      <td>45617.956264</td>\n",
       "      <td>46354.707948</td>\n",
       "      <td>46196.417029</td>\n",
       "      <td>46218.371603</td>\n",
       "    </tr>\n",
       "    <tr>\n",
       "      <th>2782</th>\n",
       "      <td>38782.92</td>\n",
       "      <td>39086.329830</td>\n",
       "      <td>38913.485672</td>\n",
       "      <td>38952.591448</td>\n",
       "      <td>37561.451140</td>\n",
       "      <td>38739.173308</td>\n",
       "      <td>39307.366450</td>\n",
       "      <td>39308.782160</td>\n",
       "    </tr>\n",
       "    <tr>\n",
       "      <th>2783</th>\n",
       "      <td>40904.50</td>\n",
       "      <td>38921.762960</td>\n",
       "      <td>38042.365510</td>\n",
       "      <td>38515.397326</td>\n",
       "      <td>37578.463209</td>\n",
       "      <td>37876.017496</td>\n",
       "      <td>39553.983736</td>\n",
       "      <td>38983.588767</td>\n",
       "    </tr>\n",
       "    <tr>\n",
       "      <th>2784</th>\n",
       "      <td>46925.35</td>\n",
       "      <td>46413.429412</td>\n",
       "      <td>46783.296550</td>\n",
       "      <td>46898.149709</td>\n",
       "      <td>47629.537462</td>\n",
       "      <td>46200.244430</td>\n",
       "      <td>46824.162392</td>\n",
       "      <td>46835.102759</td>\n",
       "    </tr>\n",
       "  </tbody>\n",
       "</table>\n",
       "<p>2785 rows × 8 columns</p>\n",
       "</div>"
      ],
      "text/plain": [
       "      y_test_inverse  y_pred_inverse_SVR  y_pred_inverse_GBR  \\\n",
       "0           51310.82        50407.318604        50409.554215   \n",
       "1           34174.08        34102.961401        34212.989837   \n",
       "2           35832.98        35042.150278        35087.863891   \n",
       "3           51160.35        51032.409994        50437.389650   \n",
       "4           50075.00        47720.017594        48957.572806   \n",
       "...              ...                 ...                 ...   \n",
       "2780        35375.00        35667.513494        35280.235098   \n",
       "2781        46296.95        46004.967257        46249.490444   \n",
       "2782        38782.92        39086.329830        38913.485672   \n",
       "2783        40904.50        38921.762960        38042.365510   \n",
       "2784        46925.35        46413.429412        46783.296550   \n",
       "\n",
       "      y_pred_inverse_MLP  y_pred_inverse_AdaBoost  y_pred_inverse_rf  \\\n",
       "0           50338.292123             49705.079214       50069.774377   \n",
       "1           34318.242682             33734.118777       34015.275273   \n",
       "2           34690.208075             35839.713596       34774.564100   \n",
       "3           51218.543635             49705.079214       49920.476583   \n",
       "4           46681.777562             48598.365375       49009.372221   \n",
       "...                  ...                      ...                ...   \n",
       "2780        35239.593038             36650.021877       35204.939342   \n",
       "2781        46370.643369             45617.956264       46354.707948   \n",
       "2782        38952.591448             37561.451140       38739.173308   \n",
       "2783        38515.397326             37578.463209       37876.017496   \n",
       "2784        46898.149709             47629.537462       46200.244430   \n",
       "\n",
       "      y_pred_inverse_linear  y_pred_inverse_Elastic  \n",
       "0              50129.150027            50133.439549  \n",
       "1              34557.322908            34422.957551  \n",
       "2              35555.261311            35527.592724  \n",
       "3              50228.311338            50227.809161  \n",
       "4              47423.644181            47446.625254  \n",
       "...                     ...                     ...  \n",
       "2780           35889.590243            35803.345571  \n",
       "2781           46196.417029            46218.371603  \n",
       "2782           39307.366450            39308.782160  \n",
       "2783           39553.983736            38983.588767  \n",
       "2784           46824.162392            46835.102759  \n",
       "\n",
       "[2785 rows x 8 columns]"
      ]
     },
     "execution_count": 90,
     "metadata": {},
     "output_type": "execute_result"
    }
   ],
   "source": [
    "df = pd.DataFrame({'y_test_inverse':y_test_inverse, 'y_pred_inverse_SVR':y_pred_inverse_SVR, 'y_pred_inverse_GBR':y_pred_inverse_GBR, 'y_pred_inverse_MLP':y_pred_inverse_MLP, 'y_pred_inverse_AdaBoost':y_pred_inverse_AdaBoost, 'y_pred_inverse_rf':y_pred_inverse_rf, 'y_pred_inverse_linear':y_pred_inverse_linear, 'y_pred_inverse_Elastic':y_pred_inverse_Elastic})\n",
    "df"
   ]
  },
  {
   "cell_type": "markdown",
   "metadata": {},
   "source": [
    "#### Estimate_y"
   ]
  },
  {
   "cell_type": "code",
   "execution_count": 91,
   "metadata": {},
   "outputs": [
    {
     "data": {
      "text/plain": [
       "[[1315.8529774134836, 3241471.613592897, 1800.408735146799],\n",
       " [1290.223653497364, 3045448.6838961546, 1745.1213951746035],\n",
       " [1360.7797447208748, 3313238.5700212093, 1820.2303618007281],\n",
       " [1495.4692027270178, 3898905.8122911807, 1974.5647146374263],\n",
       " [1252.0739333683225, 2888723.495702872, 1699.624516092561],\n",
       " [1396.2231956070914, 3509808.2216126, 1873.4482169551952],\n",
       " [1399.021741939146, 3518723.6732397345, 1875.8261308660071]]"
      ]
     },
     "execution_count": 91,
     "metadata": {},
     "output_type": "execute_result"
    }
   ],
   "source": [
    "from sklearn import metrics\n",
    "R_Square_Elastic_y = Elastic_model.score(X_train,y_train)\n",
    "Mean_Absolute_Error_Elastic_y = metrics.mean_absolute_error(y_test_inverse, y_pred_inverse_Elastic)\n",
    "Mean_Squared_Error_Elastic_y = metrics.mean_squared_error(y_test_inverse, y_pred_inverse_Elastic)\n",
    "Root_Mean_Squared_Error_Elastic_y = np.sqrt(metrics.mean_squared_error(y_test_inverse, y_pred_inverse_Elastic))\n",
    "\n",
    "list_estimate_y = [Mean_Absolute_Error_Elastic_y,Mean_Squared_Error_Elastic_y,Root_Mean_Squared_Error_Elastic_y]\n",
    "list_estimate_temp_y.append(list_estimate_y)\n",
    "list_estimate_temp_y"
   ]
  },
  {
   "cell_type": "markdown",
   "metadata": {},
   "source": [
    "# 8. BayesianRidge"
   ]
  },
  {
   "cell_type": "code",
   "execution_count": 92,
   "metadata": {},
   "outputs": [],
   "source": [
    "from sklearn.linear_model import BayesianRidge\n",
    "from sklearn.datasets import load_boston\n",
    "from sklearn.model_selection import train_test_split\n",
    "from sklearn.metrics import mean_squared_error\n",
    "import matplotlib.pyplot as plt\n",
    "from numpy import sqrt"
   ]
  },
  {
   "cell_type": "code",
   "execution_count": 93,
   "metadata": {},
   "outputs": [
    {
     "name": "stdout",
     "output_type": "stream",
     "text": [
      "BayesianRidge()\n",
      "Model score (R-squared): 0.96\n"
     ]
    },
    {
     "name": "stderr",
     "output_type": "stream",
     "text": [
      "C:\\Users\\Gunn\\anaconda3\\lib\\site-packages\\sklearn\\utils\\validation.py:993: DataConversionWarning: A column-vector y was passed when a 1d array was expected. Please change the shape of y to (n_samples, ), for example using ravel().\n",
      "  y = column_or_1d(y, warn=True)\n"
     ]
    }
   ],
   "source": [
    "\n",
    "\n",
    "\n",
    "bay_ridge = BayesianRidge()\n",
    "print(bay_ridge)\n",
    " \n",
    "bay_ridge.fit(X_train,y_train)\n",
    "\n",
    "score=bay_ridge.score(X_train,y_train)\n",
    "print(\"Model score (R-squared): %.2f\" % score)\n",
    "\n"
   ]
  },
  {
   "cell_type": "code",
   "execution_count": 94,
   "metadata": {
    "scrolled": true
   },
   "outputs": [],
   "source": [
    "y_pred_bay_ridge = bay_ridge.predict(X_test).reshape(-1, 1)\n",
    "mse = mean_squared_error(y_test, y_pred_bay_ridge)\n"
   ]
  },
  {
   "cell_type": "code",
   "execution_count": 95,
   "metadata": {},
   "outputs": [],
   "source": [
    "from sklearn import metrics\n",
    "R_Square_bay_ridge = bay_ridge.score(X_train,y_train)\n",
    "Mean_Absolute_Error_bay_ridge = metrics.mean_absolute_error(y_test, y_pred_bay_ridge)\n",
    "Mean_Squared_Error_bay_ridge = metrics.mean_squared_error(y_test, y_pred_bay_ridge)\n",
    "Root_Mean_Squared_Error_bay_ridge = np.sqrt(metrics.mean_squared_error(y_test, y_pred_bay_ridge))"
   ]
  },
  {
   "cell_type": "code",
   "execution_count": 96,
   "metadata": {},
   "outputs": [],
   "source": [
    "list_estimate = [R_Square_bay_ridge,Mean_Absolute_Error_bay_ridge,Mean_Squared_Error_bay_ridge,Root_Mean_Squared_Error_bay_ridge]\n",
    "list_estimate_temp.append(list_estimate)\n",
    "# list_estimate_temp"
   ]
  },
  {
   "cell_type": "code",
   "execution_count": 97,
   "metadata": {
    "scrolled": true
   },
   "outputs": [],
   "source": [
    "# from sklearn import metrics\n",
    "# print('Mean Absolute Error:', metrics.mean_absolute_error(y_test, ypred))\n",
    "# print('Mean Squared Error:', metrics.mean_squared_error(y_test, ypred))\n",
    "# print('Root Mean Squared Error:', np.sqrt(metrics.mean_squared_error(y_test, ypred)))"
   ]
  },
  {
   "cell_type": "code",
   "execution_count": 98,
   "metadata": {},
   "outputs": [],
   "source": [
    "from sklearn import preprocessing\n",
    "y_new_inverse_bay_ridge = sc_y.inverse_transform(y_pred_bay_ridge).reshape(-1,)"
   ]
  },
  {
   "cell_type": "markdown",
   "metadata": {},
   "source": [
    "#### Estimate_y"
   ]
  },
  {
   "cell_type": "code",
   "execution_count": 99,
   "metadata": {},
   "outputs": [
    {
     "data": {
      "text/plain": [
       "[[1315.8529774134836, 3241471.613592897, 1800.408735146799],\n",
       " [1290.223653497364, 3045448.6838961546, 1745.1213951746035],\n",
       " [1360.7797447208748, 3313238.5700212093, 1820.2303618007281],\n",
       " [1495.4692027270178, 3898905.8122911807, 1974.5647146374263],\n",
       " [1252.0739333683225, 2888723.495702872, 1699.624516092561],\n",
       " [1396.2231956070914, 3509808.2216126, 1873.4482169551952],\n",
       " [1399.021741939146, 3518723.6732397345, 1875.8261308660071],\n",
       " [1399.2673593460604, 3519345.1661051507, 1875.9917819929678]]"
      ]
     },
     "execution_count": 99,
     "metadata": {},
     "output_type": "execute_result"
    }
   ],
   "source": [
    "from sklearn import metrics\n",
    "R_Square_bay_ridge_y = bay_ridge.score(X_train,y_train)\n",
    "Mean_Absolute_Error_bay_ridge_y = metrics.mean_absolute_error(y_test_inverse, y_new_inverse_bay_ridge)\n",
    "Mean_Squared_Error_bay_ridge_y = metrics.mean_squared_error(y_test_inverse, y_new_inverse_bay_ridge)\n",
    "Root_Mean_Squared_Error_bay_ridge_y = np.sqrt(metrics.mean_squared_error(y_test_inverse, y_new_inverse_bay_ridge))\n",
    "\n",
    "list_estimate_y = [Mean_Absolute_Error_bay_ridge_y,Mean_Squared_Error_bay_ridge_y,Root_Mean_Squared_Error_bay_ridge_y]\n",
    "list_estimate_temp_y.append(list_estimate_y)\n",
    "list_estimate_temp_y"
   ]
  },
  {
   "cell_type": "code",
   "execution_count": 100,
   "metadata": {
    "scrolled": true
   },
   "outputs": [
    {
     "data": {
      "text/html": [
       "<div>\n",
       "<style scoped>\n",
       "    .dataframe tbody tr th:only-of-type {\n",
       "        vertical-align: middle;\n",
       "    }\n",
       "\n",
       "    .dataframe tbody tr th {\n",
       "        vertical-align: top;\n",
       "    }\n",
       "\n",
       "    .dataframe thead th {\n",
       "        text-align: right;\n",
       "    }\n",
       "</style>\n",
       "<table border=\"1\" class=\"dataframe\">\n",
       "  <thead>\n",
       "    <tr style=\"text-align: right;\">\n",
       "      <th></th>\n",
       "      <th>y_test_inverse</th>\n",
       "      <th>y_pred_inverse_SVR</th>\n",
       "      <th>y_pred_inverse_GBR</th>\n",
       "      <th>y_pred_inverse_MLP</th>\n",
       "      <th>y_pred_inverse_AdaBoost</th>\n",
       "      <th>y_pred_inverse_rf</th>\n",
       "      <th>y_pred_inverse_linear</th>\n",
       "      <th>y_pred_inverse_Elastic</th>\n",
       "      <th>y_new_inverse_bay_ridge</th>\n",
       "    </tr>\n",
       "  </thead>\n",
       "  <tbody>\n",
       "    <tr>\n",
       "      <th>0</th>\n",
       "      <td>51310.82</td>\n",
       "      <td>50407.318604</td>\n",
       "      <td>50409.554215</td>\n",
       "      <td>50338.292123</td>\n",
       "      <td>49705.079214</td>\n",
       "      <td>50069.774377</td>\n",
       "      <td>50129.150027</td>\n",
       "      <td>50133.439549</td>\n",
       "      <td>50135.983834</td>\n",
       "    </tr>\n",
       "    <tr>\n",
       "      <th>1</th>\n",
       "      <td>34174.08</td>\n",
       "      <td>34102.961401</td>\n",
       "      <td>34212.989837</td>\n",
       "      <td>34318.242682</td>\n",
       "      <td>33734.118777</td>\n",
       "      <td>34015.275273</td>\n",
       "      <td>34557.322908</td>\n",
       "      <td>34422.957551</td>\n",
       "      <td>34441.582472</td>\n",
       "    </tr>\n",
       "    <tr>\n",
       "      <th>2</th>\n",
       "      <td>35832.98</td>\n",
       "      <td>35042.150278</td>\n",
       "      <td>35087.863891</td>\n",
       "      <td>34690.208075</td>\n",
       "      <td>35839.713596</td>\n",
       "      <td>34774.564100</td>\n",
       "      <td>35555.261311</td>\n",
       "      <td>35527.592724</td>\n",
       "      <td>35523.956482</td>\n",
       "    </tr>\n",
       "    <tr>\n",
       "      <th>3</th>\n",
       "      <td>51160.35</td>\n",
       "      <td>51032.409994</td>\n",
       "      <td>50437.389650</td>\n",
       "      <td>51218.543635</td>\n",
       "      <td>49705.079214</td>\n",
       "      <td>49920.476583</td>\n",
       "      <td>50228.311338</td>\n",
       "      <td>50227.809161</td>\n",
       "      <td>50231.645617</td>\n",
       "    </tr>\n",
       "    <tr>\n",
       "      <th>4</th>\n",
       "      <td>50075.00</td>\n",
       "      <td>47720.017594</td>\n",
       "      <td>48957.572806</td>\n",
       "      <td>46681.777562</td>\n",
       "      <td>48598.365375</td>\n",
       "      <td>49009.372221</td>\n",
       "      <td>47423.644181</td>\n",
       "      <td>47446.625254</td>\n",
       "      <td>47513.323678</td>\n",
       "    </tr>\n",
       "    <tr>\n",
       "      <th>...</th>\n",
       "      <td>...</td>\n",
       "      <td>...</td>\n",
       "      <td>...</td>\n",
       "      <td>...</td>\n",
       "      <td>...</td>\n",
       "      <td>...</td>\n",
       "      <td>...</td>\n",
       "      <td>...</td>\n",
       "      <td>...</td>\n",
       "    </tr>\n",
       "    <tr>\n",
       "      <th>2780</th>\n",
       "      <td>35375.00</td>\n",
       "      <td>35667.513494</td>\n",
       "      <td>35280.235098</td>\n",
       "      <td>35239.593038</td>\n",
       "      <td>36650.021877</td>\n",
       "      <td>35204.939342</td>\n",
       "      <td>35889.590243</td>\n",
       "      <td>35803.345571</td>\n",
       "      <td>35849.868019</td>\n",
       "    </tr>\n",
       "    <tr>\n",
       "      <th>2781</th>\n",
       "      <td>46296.95</td>\n",
       "      <td>46004.967257</td>\n",
       "      <td>46249.490444</td>\n",
       "      <td>46370.643369</td>\n",
       "      <td>45617.956264</td>\n",
       "      <td>46354.707948</td>\n",
       "      <td>46196.417029</td>\n",
       "      <td>46218.371603</td>\n",
       "      <td>46218.210008</td>\n",
       "    </tr>\n",
       "    <tr>\n",
       "      <th>2782</th>\n",
       "      <td>38782.92</td>\n",
       "      <td>39086.329830</td>\n",
       "      <td>38913.485672</td>\n",
       "      <td>38952.591448</td>\n",
       "      <td>37561.451140</td>\n",
       "      <td>38739.173308</td>\n",
       "      <td>39307.366450</td>\n",
       "      <td>39308.782160</td>\n",
       "      <td>39295.134063</td>\n",
       "    </tr>\n",
       "    <tr>\n",
       "      <th>2783</th>\n",
       "      <td>40904.50</td>\n",
       "      <td>38921.762960</td>\n",
       "      <td>38042.365510</td>\n",
       "      <td>38515.397326</td>\n",
       "      <td>37578.463209</td>\n",
       "      <td>37876.017496</td>\n",
       "      <td>39553.983736</td>\n",
       "      <td>38983.588767</td>\n",
       "      <td>39037.906346</td>\n",
       "    </tr>\n",
       "    <tr>\n",
       "      <th>2784</th>\n",
       "      <td>46925.35</td>\n",
       "      <td>46413.429412</td>\n",
       "      <td>46783.296550</td>\n",
       "      <td>46898.149709</td>\n",
       "      <td>47629.537462</td>\n",
       "      <td>46200.244430</td>\n",
       "      <td>46824.162392</td>\n",
       "      <td>46835.102759</td>\n",
       "      <td>46846.091365</td>\n",
       "    </tr>\n",
       "  </tbody>\n",
       "</table>\n",
       "<p>2785 rows × 9 columns</p>\n",
       "</div>"
      ],
      "text/plain": [
       "      y_test_inverse  y_pred_inverse_SVR  y_pred_inverse_GBR  \\\n",
       "0           51310.82        50407.318604        50409.554215   \n",
       "1           34174.08        34102.961401        34212.989837   \n",
       "2           35832.98        35042.150278        35087.863891   \n",
       "3           51160.35        51032.409994        50437.389650   \n",
       "4           50075.00        47720.017594        48957.572806   \n",
       "...              ...                 ...                 ...   \n",
       "2780        35375.00        35667.513494        35280.235098   \n",
       "2781        46296.95        46004.967257        46249.490444   \n",
       "2782        38782.92        39086.329830        38913.485672   \n",
       "2783        40904.50        38921.762960        38042.365510   \n",
       "2784        46925.35        46413.429412        46783.296550   \n",
       "\n",
       "      y_pred_inverse_MLP  y_pred_inverse_AdaBoost  y_pred_inverse_rf  \\\n",
       "0           50338.292123             49705.079214       50069.774377   \n",
       "1           34318.242682             33734.118777       34015.275273   \n",
       "2           34690.208075             35839.713596       34774.564100   \n",
       "3           51218.543635             49705.079214       49920.476583   \n",
       "4           46681.777562             48598.365375       49009.372221   \n",
       "...                  ...                      ...                ...   \n",
       "2780        35239.593038             36650.021877       35204.939342   \n",
       "2781        46370.643369             45617.956264       46354.707948   \n",
       "2782        38952.591448             37561.451140       38739.173308   \n",
       "2783        38515.397326             37578.463209       37876.017496   \n",
       "2784        46898.149709             47629.537462       46200.244430   \n",
       "\n",
       "      y_pred_inverse_linear  y_pred_inverse_Elastic  y_new_inverse_bay_ridge  \n",
       "0              50129.150027            50133.439549             50135.983834  \n",
       "1              34557.322908            34422.957551             34441.582472  \n",
       "2              35555.261311            35527.592724             35523.956482  \n",
       "3              50228.311338            50227.809161             50231.645617  \n",
       "4              47423.644181            47446.625254             47513.323678  \n",
       "...                     ...                     ...                      ...  \n",
       "2780           35889.590243            35803.345571             35849.868019  \n",
       "2781           46196.417029            46218.371603             46218.210008  \n",
       "2782           39307.366450            39308.782160             39295.134063  \n",
       "2783           39553.983736            38983.588767             39037.906346  \n",
       "2784           46824.162392            46835.102759             46846.091365  \n",
       "\n",
       "[2785 rows x 9 columns]"
      ]
     },
     "execution_count": 100,
     "metadata": {},
     "output_type": "execute_result"
    }
   ],
   "source": [
    "df_price = pd.DataFrame({'y_test_inverse':y_test_inverse, 'y_pred_inverse_SVR':y_pred_inverse_SVR, 'y_pred_inverse_GBR':y_pred_inverse_GBR, 'y_pred_inverse_MLP':y_pred_inverse_MLP, 'y_pred_inverse_AdaBoost':y_pred_inverse_AdaBoost, 'y_pred_inverse_rf':y_pred_inverse_rf, 'y_pred_inverse_linear':y_pred_inverse_linear, 'y_pred_inverse_Elastic':y_pred_inverse_Elastic, 'y_new_inverse_bay_ridge':y_new_inverse_bay_ridge})\n",
    "df_price"
   ]
  },
  {
   "cell_type": "code",
   "execution_count": 110,
   "metadata": {},
   "outputs": [],
   "source": [
    "df_price.to_csv('df_price.csv')"
   ]
  },
  {
   "cell_type": "code",
   "execution_count": 103,
   "metadata": {},
   "outputs": [
    {
     "data": {
      "text/plain": [
       "8"
      ]
     },
     "execution_count": 103,
     "metadata": {},
     "output_type": "execute_result"
    }
   ],
   "source": [
    "len(list_estimate_temp)"
   ]
  },
  {
   "cell_type": "code",
   "execution_count": 101,
   "metadata": {
    "scrolled": false
   },
   "outputs": [
    {
     "data": {
      "text/html": [
       "<div>\n",
       "<style scoped>\n",
       "    .dataframe tbody tr th:only-of-type {\n",
       "        vertical-align: middle;\n",
       "    }\n",
       "\n",
       "    .dataframe tbody tr th {\n",
       "        vertical-align: top;\n",
       "    }\n",
       "\n",
       "    .dataframe thead th {\n",
       "        text-align: right;\n",
       "    }\n",
       "</style>\n",
       "<table border=\"1\" class=\"dataframe\">\n",
       "  <thead>\n",
       "    <tr style=\"text-align: right;\">\n",
       "      <th></th>\n",
       "      <th>R Square</th>\n",
       "      <th>Mean Absolute Error</th>\n",
       "      <th>Mean Squared Error</th>\n",
       "      <th>Root Mean Squared Error</th>\n",
       "    </tr>\n",
       "  </thead>\n",
       "  <tbody>\n",
       "    <tr>\n",
       "      <th>SVR</th>\n",
       "      <td>0.967579</td>\n",
       "      <td>0.135694</td>\n",
       "      <td>0.034471</td>\n",
       "      <td>0.185662</td>\n",
       "    </tr>\n",
       "    <tr>\n",
       "      <th>HGBR</th>\n",
       "      <td>0.977216</td>\n",
       "      <td>0.133051</td>\n",
       "      <td>0.032386</td>\n",
       "      <td>0.179961</td>\n",
       "    </tr>\n",
       "    <tr>\n",
       "      <th>MLP</th>\n",
       "      <td>0.966933</td>\n",
       "      <td>0.140327</td>\n",
       "      <td>0.035234</td>\n",
       "      <td>0.187707</td>\n",
       "    </tr>\n",
       "    <tr>\n",
       "      <th>AdoBoot</th>\n",
       "      <td>0.961165</td>\n",
       "      <td>0.154216</td>\n",
       "      <td>0.041462</td>\n",
       "      <td>0.203622</td>\n",
       "    </tr>\n",
       "    <tr>\n",
       "      <th>RF</th>\n",
       "      <td>0.992644</td>\n",
       "      <td>0.129117</td>\n",
       "      <td>0.030719</td>\n",
       "      <td>0.175269</td>\n",
       "    </tr>\n",
       "    <tr>\n",
       "      <th>LinearR</th>\n",
       "      <td>0.964306</td>\n",
       "      <td>0.143982</td>\n",
       "      <td>0.037324</td>\n",
       "      <td>0.193194</td>\n",
       "    </tr>\n",
       "    <tr>\n",
       "      <th>ElasticN</th>\n",
       "      <td>0.964242</td>\n",
       "      <td>0.144270</td>\n",
       "      <td>0.037419</td>\n",
       "      <td>0.193440</td>\n",
       "    </tr>\n",
       "    <tr>\n",
       "      <th>BayesianRidge</th>\n",
       "      <td>0.964244</td>\n",
       "      <td>0.144296</td>\n",
       "      <td>0.037426</td>\n",
       "      <td>0.193457</td>\n",
       "    </tr>\n",
       "  </tbody>\n",
       "</table>\n",
       "</div>"
      ],
      "text/plain": [
       "               R Square  Mean Absolute Error  Mean Squared Error  \\\n",
       "SVR            0.967579             0.135694            0.034471   \n",
       "HGBR           0.977216             0.133051            0.032386   \n",
       "MLP            0.966933             0.140327            0.035234   \n",
       "AdoBoot        0.961165             0.154216            0.041462   \n",
       "RF             0.992644             0.129117            0.030719   \n",
       "LinearR        0.964306             0.143982            0.037324   \n",
       "ElasticN       0.964242             0.144270            0.037419   \n",
       "BayesianRidge  0.964244             0.144296            0.037426   \n",
       "\n",
       "               Root Mean Squared Error  \n",
       "SVR                           0.185662  \n",
       "HGBR                          0.179961  \n",
       "MLP                           0.187707  \n",
       "AdoBoot                       0.203622  \n",
       "RF                            0.175269  \n",
       "LinearR                       0.193194  \n",
       "ElasticN                      0.193440  \n",
       "BayesianRidge                 0.193457  "
      ]
     },
     "execution_count": 101,
     "metadata": {},
     "output_type": "execute_result"
    }
   ],
   "source": [
    "\n",
    "\n",
    "df = pd.DataFrame(list_estimate_temp, index =['SVR', 'HGBR', 'MLP', 'AdoBoot', 'RF', 'LinearR', 'ElasticN','BayesianRidge'],\n",
    "                                              columns =['R Square','Mean Absolute Error', 'Mean Squared Error','Root Mean Squared Error'])\n",
    "df"
   ]
  },
  {
   "cell_type": "code",
   "execution_count": 103,
   "metadata": {},
   "outputs": [],
   "source": [
    "df.to_csv('estimate.csv')"
   ]
  },
  {
   "cell_type": "code",
   "execution_count": 102,
   "metadata": {
    "scrolled": true
   },
   "outputs": [
    {
     "data": {
      "text/html": [
       "<div>\n",
       "<style scoped>\n",
       "    .dataframe tbody tr th:only-of-type {\n",
       "        vertical-align: middle;\n",
       "    }\n",
       "\n",
       "    .dataframe tbody tr th {\n",
       "        vertical-align: top;\n",
       "    }\n",
       "\n",
       "    .dataframe thead th {\n",
       "        text-align: right;\n",
       "    }\n",
       "</style>\n",
       "<table border=\"1\" class=\"dataframe\">\n",
       "  <thead>\n",
       "    <tr style=\"text-align: right;\">\n",
       "      <th></th>\n",
       "      <th>Mean Absolute Error</th>\n",
       "      <th>Mean Squared Error</th>\n",
       "      <th>Root Mean Squared Error</th>\n",
       "    </tr>\n",
       "  </thead>\n",
       "  <tbody>\n",
       "    <tr>\n",
       "      <th>SVR</th>\n",
       "      <td>1315.852977</td>\n",
       "      <td>3.241472e+06</td>\n",
       "      <td>1800.408735</td>\n",
       "    </tr>\n",
       "    <tr>\n",
       "      <th>HGBR</th>\n",
       "      <td>1290.223653</td>\n",
       "      <td>3.045449e+06</td>\n",
       "      <td>1745.121395</td>\n",
       "    </tr>\n",
       "    <tr>\n",
       "      <th>MLP</th>\n",
       "      <td>1360.779745</td>\n",
       "      <td>3.313239e+06</td>\n",
       "      <td>1820.230362</td>\n",
       "    </tr>\n",
       "    <tr>\n",
       "      <th>AdoBoot</th>\n",
       "      <td>1495.469203</td>\n",
       "      <td>3.898906e+06</td>\n",
       "      <td>1974.564715</td>\n",
       "    </tr>\n",
       "    <tr>\n",
       "      <th>RF</th>\n",
       "      <td>1252.073933</td>\n",
       "      <td>2.888723e+06</td>\n",
       "      <td>1699.624516</td>\n",
       "    </tr>\n",
       "    <tr>\n",
       "      <th>LinearR</th>\n",
       "      <td>1396.223196</td>\n",
       "      <td>3.509808e+06</td>\n",
       "      <td>1873.448217</td>\n",
       "    </tr>\n",
       "    <tr>\n",
       "      <th>ElasticN</th>\n",
       "      <td>1399.021742</td>\n",
       "      <td>3.518724e+06</td>\n",
       "      <td>1875.826131</td>\n",
       "    </tr>\n",
       "    <tr>\n",
       "      <th>BayesianRidge</th>\n",
       "      <td>1399.267359</td>\n",
       "      <td>3.519345e+06</td>\n",
       "      <td>1875.991782</td>\n",
       "    </tr>\n",
       "  </tbody>\n",
       "</table>\n",
       "</div>"
      ],
      "text/plain": [
       "               Mean Absolute Error  Mean Squared Error  \\\n",
       "SVR                    1315.852977        3.241472e+06   \n",
       "HGBR                   1290.223653        3.045449e+06   \n",
       "MLP                    1360.779745        3.313239e+06   \n",
       "AdoBoot                1495.469203        3.898906e+06   \n",
       "RF                     1252.073933        2.888723e+06   \n",
       "LinearR                1396.223196        3.509808e+06   \n",
       "ElasticN               1399.021742        3.518724e+06   \n",
       "BayesianRidge          1399.267359        3.519345e+06   \n",
       "\n",
       "               Root Mean Squared Error  \n",
       "SVR                        1800.408735  \n",
       "HGBR                       1745.121395  \n",
       "MLP                        1820.230362  \n",
       "AdoBoot                    1974.564715  \n",
       "RF                         1699.624516  \n",
       "LinearR                    1873.448217  \n",
       "ElasticN                   1875.826131  \n",
       "BayesianRidge              1875.991782  "
      ]
     },
     "execution_count": 102,
     "metadata": {},
     "output_type": "execute_result"
    }
   ],
   "source": [
    "\n",
    "\n",
    "df_y = pd.DataFrame(list_estimate_temp_y, index =['SVR', 'HGBR', 'MLP', 'AdoBoot', 'RF', 'LinearR', 'ElasticN','BayesianRidge'],\n",
    "                                              columns =['Mean Absolute Error', 'Mean Squared Error','Root Mean Squared Error'])\n",
    "df_y"
   ]
  },
  {
   "cell_type": "code",
   "execution_count": 104,
   "metadata": {},
   "outputs": [],
   "source": [
    "df_y.to_csv('estimate_y.csv')"
   ]
  },
  {
   "cell_type": "code",
   "execution_count": 108,
   "metadata": {},
   "outputs": [
    {
     "data": {
      "text/plain": [
       "Index(['y_test_inverse', 'y_pred_inverse_SVR', 'y_pred_inverse_GBR',\n",
       "       'y_pred_inverse_MLP', 'y_pred_inverse_AdaBoost', 'y_pred_inverse_rf',\n",
       "       'y_pred_inverse_linear', 'y_pred_inverse_Elastic',\n",
       "       'y_new_inverse_bay_ridge'],\n",
       "      dtype='object')"
      ]
     },
     "execution_count": 108,
     "metadata": {},
     "output_type": "execute_result"
    }
   ],
   "source": [
    "df_price.columns"
   ]
  },
  {
   "cell_type": "code",
   "execution_count": 120,
   "metadata": {},
   "outputs": [
    {
     "data": {
      "image/png": "[encoded data removed]",
      "text/plain": [
       "<Figure size 800x480 with 1 Axes>"
      ]
     },
     "metadata": {
      "needs_background": "light"
     },
     "output_type": "display_data"
    }
   ],
   "source": [
    "import matplotlib.pyplot as plt \n",
    "\n",
    "from matplotlib.pyplot import figure\n",
    "\n",
    "figure(figsize=(10, 6), dpi=80)\n",
    "\n",
    "x = np.arange(1,11) \n",
    "y =10\n",
    "\n",
    "#plot individual lines\n",
    "plt.plot(x,df_price['y_test_inverse'][:y], label = \"y_test_inverse \")\n",
    "plt.plot(x,df_price['y_pred_inverse_SVR'][:y], label = \"y_pred_inverse_SVR \")\n",
    "plt.plot(x,df_price['y_pred_inverse_GBR'][:y], label = \"y_pred_inverse_GBR \")\n",
    "plt.plot(x,df_price['y_pred_inverse_MLP'][:y], label = \"y_pred_inverse_MLP \")\n",
    "plt.plot(x,df_price['y_pred_inverse_AdaBoost'][:y], label = \"y_pred_inverse_AdaBoost \")\n",
    "plt.plot(x,df_price['y_pred_inverse_rf'][:y], label = \"y_pred_inverse_rf \")\n",
    "\n",
    "plt.plot(x,df_price['y_pred_inverse_linear'][:y], label = \"y_pred_inverse_linear \")\n",
    "plt.plot(x,df_price['y_pred_inverse_Elastic'][:y], label = \"y_pred_inverse_Elastic \")\n",
    "plt.plot(x,df_price['y_new_inverse_bay_ridge'][:y], label = \"y_new_inverse_bay_ridge \")\n",
    "\n",
    "\n",
    "# plot lines\n",
    "# plt.plot(x, y_test_inverse[:100], label = \"line 1\")\n",
    "# plt.plot(x, y_pred_inverse_rf[:100], label = \"line 2\")\n",
    "plt.legend()\n",
    "plt.show()\n",
    "\n",
    "#display plot\n",
    "plt.show()"
   ]
  },
  {
   "cell_type": "code",
   "execution_count": null,
   "metadata": {},
   "outputs": [],
   "source": []
  }
 ],
 "metadata": {
  "kernelspec": {
   "display_name": "Python 3",
   "language": "python",
   "name": "python3"
  },
  "language_info": {
   "codemirror_mode": {
    "name": "ipython",
    "version": 3
   },
   "file_extension": ".py",
   "mimetype": "text/x-python",
   "name": "python",
   "nbconvert_exporter": "python",
   "pygments_lexer": "ipython3",
   "version": "3.7.6"
  }
 },
 "nbformat": 4,
 "nbformat_minor": 2
}
